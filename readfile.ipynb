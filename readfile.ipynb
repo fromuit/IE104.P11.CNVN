{
 "cells": [
  {
   "cell_type": "code",
   "execution_count": 3,
   "metadata": {},
   "outputs": [],
   "source": [
    "# !pip install beautifulsoup4 lxml"
   ]
  },
  {
   "cell_type": "code",
   "execution_count": 4,
   "metadata": {},
   "outputs": [],
   "source": [
    "import tkinter as tk\n",
    "from tkinter import filedialog, scrolledtext\n",
    "from PIL import Image, ImageTk\n",
    "import requests\n",
    "from io import BytesIO\n",
    "from bs4 import BeautifulSoup\n",
    "\n",
    "def open_file():\n",
    "    filepath = filedialog.askopenfilename(filetypes=[(\"HTML files\", \"*.html;*.htm\")])\n",
    "    if not filepath:\n",
    "        return\n",
    "    with open(filepath, 'r', encoding='utf-8') as file:\n",
    "        content = file.read()\n",
    "\n",
    "    soup = BeautifulSoup(content, 'lxml')\n",
    "    chapter_content = soup.find('div', id='chapter-content')\n",
    "\n",
    "    if chapter_content:\n",
    "        text_area.delete('1.0', tk.END)  # Clear current text area content\n",
    "        for child in chapter_content.children:\n",
    "            if child.name in ['p', 'h1', 'h2', 'h3', 'h4', 'h5', 'h6']:\n",
    "                text_area.insert(tk.END, child.get_text(strip=True) + '\\n\\n')\n",
    "            elif child.name == 'img':\n",
    "                img_url = child.get('src')\n",
    "                try:\n",
    "                    if img_url.startswith('http://') or img_url.startswith('https://'):\n",
    "                        response = requests.get(img_url)\n",
    "                        img_data = Image.open(BytesIO(response.content))\n",
    "                    else:\n",
    "                        img_data = Image.open(img_url)  # Assume local path or malformed URL\n",
    "\n",
    "                    img_data.thumbnail((300, 300))  # Resize image if needed\n",
    "                    img = ImageTk.PhotoImage(img_data)\n",
    "                    text_area.image_create(tk.END, image=img)\n",
    "                    text_area.image = img  # Keep a reference!\n",
    "                    text_area.insert(tk.END, '\\n\\n')  # Add space after the image\n",
    "                except Exception as e:\n",
    "                    text_area.insert(tk.END, f\"Error loading image: {img_url}\\nError: {e}\\n\\n\")\n",
    "    else:\n",
    "        text_area.insert(tk.END, \"No 'chapter-content' element found.\")\n",
    "\n",
    "def main():\n",
    "    global text_area\n",
    "    root = tk.Tk()\n",
    "    root.title(\"HTML Content Viewer\")\n",
    "    root.geometry(\"600x500\")\n",
    "\n",
    "    open_button = tk.Button(root, text=\"Open HTML File\", command=open_file)\n",
    "    open_button.pack(expand=True)\n",
    "\n",
    "    text_area = scrolledtext.ScrolledText(root, wrap=tk.WORD)\n",
    "    text_area.pack(expand=True, fill=tk.BOTH)\n",
    "\n",
    "    root.mainloop()\n",
    "\n",
    "if __name__ == \"__main__\":\n",
    "    main()"
   ]
  }
 ],
 "metadata": {
  "kernelspec": {
   "display_name": "Python 3",
   "language": "python",
   "name": "python3"
  },
  "language_info": {
   "codemirror_mode": {
    "name": "ipython",
    "version": 3
   },
   "file_extension": ".py",
   "mimetype": "text/x-python",
   "name": "python",
   "nbconvert_exporter": "python",
   "pygments_lexer": "ipython3",
   "version": "3.12.5"
  }
 },
 "nbformat": 4,
 "nbformat_minor": 2
}
