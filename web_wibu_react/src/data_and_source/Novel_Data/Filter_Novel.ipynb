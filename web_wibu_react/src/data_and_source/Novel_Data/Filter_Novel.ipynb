{
 "cells": [
  {
   "cell_type": "code",
   "execution_count": 1,
   "metadata": {},
   "outputs": [],
   "source": [
    "import pandas as pd\n",
    "import os\n",
    "import shutil"
   ]
  },
  {
   "cell_type": "code",
   "execution_count": null,
   "metadata": {},
   "outputs": [],
   "source": [
    "# Đọc file CSV\n",
    "df = pd.read_csv('D:/IE104.P11.CNVN/web_wibu_react/src/data_and_source/Novel_Data/hako_data.csv')\n",
    "\n",
    "# Lấy danh sách các tựa đề từ CSV\n",
    "novel_titles = df['Tựa đề'].tolist()\n",
    "\n",
    "# Thư mục nguồn chứa các folder truyện\n",
    "source_dir = 'D:/IE104.P11.CNVN/truyen'\n",
    "\n",
    "# Thư mục đích để lưu các folder đã lọc (tùy chọn)\n",
    "destination_dir = 'D:/IE104.P11.CNVN/truyen_filtered'\n",
    "\n",
    "# Tạo thư mục đích nếu chưa tồn tại\n",
    "if not os.path.exists(destination_dir):\n",
    "    os.makedirs(destination_dir)\n",
    "\n",
    "# Lọc và copy các folder\n",
    "for folder in os.listdir(source_dir):\n",
    "    if folder in novel_titles:\n",
    "        source_path = os.path.join(source_dir, folder)\n",
    "        dest_path = os.path.join(destination_dir, folder)\n",
    "        \n",
    "        # Copy folder sang thư mục đích\n",
    "        shutil.copytree(source_path, dest_path, dirs_exist_ok=True)\n",
    "        print(f'Đã copy folder: {folder}')\n",
    "\n",
    "print('Hoàn tất quá trình lọc và copy!')"
   ]
  }
 ],
 "metadata": {
  "kernelspec": {
   "display_name": "Python 3",
   "language": "python",
   "name": "python3"
  },
  "language_info": {
   "codemirror_mode": {
    "name": "ipython",
    "version": 3
   },
   "file_extension": ".py",
   "mimetype": "text/x-python",
   "name": "python",
   "nbconvert_exporter": "python",
   "pygments_lexer": "ipython3",
   "version": "3.12.5"
  }
 },
 "nbformat": 4,
 "nbformat_minor": 2
}
