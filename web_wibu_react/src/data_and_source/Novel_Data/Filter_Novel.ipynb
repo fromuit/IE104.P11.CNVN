{
 "cells": [
  {
   "cell_type": "code",
   "execution_count": 4,
   "metadata": {},
   "outputs": [],
   "source": [
    "import pandas as pd\n",
    "import os\n",
    "import shutil\n",
    "from tqdm import tqdm\n",
    "import re\n"
   ]
  },
  {
   "cell_type": "code",
   "execution_count": 7,
   "metadata": {},
   "outputs": [
    {
     "name": "stdout",
     "output_type": "stream",
     "text": [
      "Danh sách thay đổi tên folder:\n"
     ]
    },
    {
     "name": "stderr",
     "output_type": "stream",
     "text": [
      "Đang đổi tên thư mục:   0%|          | 0/341 [00:00<?, ?it/s]"
     ]
    },
    {
     "name": "stdout",
     "output_type": "stream",
     "text": [
      "Thư mục đích 'seirei tsukai no blade dance' đã tồn tại.\n"
     ]
    },
    {
     "name": "stderr",
     "output_type": "stream",
     "text": [
      "Đang đổi tên thư mục:   3%|▎         | 9/341 [00:00<00:10, 31.57it/s]"
     ]
    },
    {
     "name": "stdout",
     "output_type": "stream",
     "text": [
      "Đã hợp nhất nội dung từ '1-seirei-tsukai-no-blade-dance' vào 'seirei tsukai no blade dance'\n",
      "Thư mục đích 'utsuro no hako to zero no maria' đã tồn tại.\n",
      "Đã hợp nhất nội dung từ '10-utsuro-no-hako-to-zero-no-maria' vào 'utsuro no hako to zero no maria'\n",
      "Thư mục đích 'accel world' đã tồn tại.\n",
      "Đã hợp nhất nội dung từ '100-accel-world' vào 'accel world'\n",
      "Thư mục đích 'psycho love comedy' đã tồn tại.\n",
      "Đã hợp nhất nội dung từ '101-psycho-love-comedy' vào 'psycho love comedy'\n",
      "Thư mục đích 'a simple survey' đã tồn tại.\n",
      "Đã hợp nhất nội dung từ '102-a-simple-survey' vào 'a simple survey'\n",
      "Thư mục đích 'clockwork planet' đã tồn tại.\n",
      "Đã hợp nhất nội dung từ '103-clockwork-planet' vào 'clockwork planet'\n",
      "Thư mục đích 'all you need is kill' đã tồn tại.\n",
      "Đã hợp nhất nội dung từ '104-all-you-need-is-kill' vào 'all you need is kill'\n",
      "Thư mục đích 'yahari ore no seishun love come wa machigatteiru' đã tồn tại.\n",
      "Đã hợp nhất nội dung từ '108-yahari-ore-no-seishun-love-come-wa-machigatteiru' vào 'yahari ore no seishun love come wa machigatteiru'\n",
      "Thư mục đích 'fatezero' đã tồn tại.\n",
      "Đã hợp nhất nội dung từ '11-fatezero' vào 'fatezero'\n",
      "Thư mục đích 'chuunibyou demo koi ga shitai' đã tồn tại.\n",
      "Đã hợp nhất nội dung từ '110-chuunibyou-demo-koi-ga-shitai' vào 'chuunibyou demo koi ga shitai'\n",
      "Thư mục đích 'oda nobuna no yabou' đã tồn tại.\n",
      "Đã hợp nhất nội dung từ '116-oda-nobuna-no-yabou' vào 'oda nobuna no yabou'\n",
      "Thư mục đích 'gundam sentinel' đã tồn tại.\n",
      "Đã hợp nhất nội dung từ '118-gundam-sentinel' vào 'gundam sentinel'\n",
      "Thư mục đích 'tabi ni deyou horobiyuku sekai no hate made' đã tồn tại.\n",
      "Đã hợp nhất nội dung từ '12-tabi-ni-deyou-horobiyuku-sekai-no-hate-made' vào 'tabi ni deyou horobiyuku sekai no hate made'\n",
      "Thư mục đích 'welcome to the nhk' đã tồn tại.\n",
      "Đã hợp nhất nội dung từ '121-welcome-to-the-nhk' vào 'welcome to the nhk'\n",
      "Thư mục đích 'ore no imouto ga konna ni kawaii wake ga nai' đã tồn tại.\n"
     ]
    },
    {
     "name": "stderr",
     "output_type": "stream",
     "text": [
      "Đang đổi tên thư mục:   6%|▌         | 21/341 [00:00<00:07, 42.04it/s]"
     ]
    },
    {
     "name": "stdout",
     "output_type": "stream",
     "text": [
      "Đã hợp nhất nội dung từ '122-ore-no-imouto-ga-konna-ni-kawaii-wake-ga-nai' vào 'ore no imouto ga konna ni kawaii wake ga nai'\n",
      "Thư mục đích 'ero manga sensei imouto to akazu no ma new' đã tồn tại.\n",
      "Đã hợp nhất nội dung từ '123-ero-manga-sensei-imouto-to-akazu-no-ma-new' vào 'ero manga sensei imouto to akazu no ma new'\n",
      "Thư mục đích 'kimi to boku no uta worlds end' đã tồn tại.\n",
      "Đã hợp nhất nội dung từ '125-kimi-to-boku-no-uta-worlds-end' vào 'kimi to boku no uta worlds end'\n",
      "Thư mục đích 'famima' đã tồn tại.\n",
      "Đã hợp nhất nội dung từ '127-famima' vào 'famima'\n",
      "Thư mục đích 'tokyo ravens' đã tồn tại.\n",
      "Đã hợp nhất nội dung từ '131-tokyo-ravens' vào 'tokyo ravens'\n",
      "Thư mục đích 'gensou sekai no alice tale' đã tồn tại.\n",
      "Đã hợp nhất nội dung từ '133-gensou-sekai-no-alice-tale' vào 'gensou sekai no alice tale'\n",
      "Thư mục đích 'campione' đã tồn tại.\n",
      "Đã hợp nhất nội dung từ '138-campione' vào 'campione'\n",
      "Thư mục đích 'that nghiep tai sinh' đã tồn tại.\n",
      "Đã hợp nhất nội dung từ '139-that-nghiep-tai-sinh' vào 'that nghiep tai sinh'\n",
      "Thư mục đích 'bungaku shoujo' đã tồn tại.\n",
      "Đã hợp nhất nội dung từ '14-bungaku-shoujo' vào 'bungaku shoujo'\n",
      "Thư mục đích 'high school dxd' đã tồn tại.\n",
      "Đã hợp nhất nội dung từ '140-high-school-dxd' vào 'high school dxd'\n",
      "Thư mục đích 'mondaiji tachi ga isekai kara kuru soudesu yo' đã tồn tại.\n"
     ]
    },
    {
     "name": "stderr",
     "output_type": "stream",
     "text": [
      "Đang đổi tên thư mục:   9%|▉         | 30/341 [00:01<00:14, 21.45it/s]"
     ]
    },
    {
     "name": "stdout",
     "output_type": "stream",
     "text": [
      "Đã hợp nhất nội dung từ '146-mondaiji-tachi-ga-isekai-kara-kuru-soudesu-yo' vào 'mondaiji tachi ga isekai kara kuru soudesu yo'\n",
      "Thư mục đích 'shinonome yuuko' đã tồn tại.\n",
      "Đã hợp nhất nội dung từ '148-shinonome-yuuko' vào 'shinonome yuuko'\n",
      "Thư mục đích 'dantalian no shoka' đã tồn tại.\n",
      "Đã hợp nhất nội dung từ '15-dantalian-no-shoka' vào 'dantalian no shoka'\n",
      "Thư mục đích 'madan no ou to vanadis' đã tồn tại.\n",
      "Đã hợp nhất nội dung từ '150-madan-no-ou-to-vanadis' vào 'madan no ou to vanadis'\n",
      "Thư mục đích 'thuong de phu ho vung dat tuyet voi nay' đã tồn tại.\n",
      "Đã hợp nhất nội dung từ '151-thuong-de-phu-ho-vung-dat-tuyet-voi-nay' vào 'thuong de phu ho vung dat tuyet voi nay'\n",
      "Thư mục đích 'boku no bungeibu ni bitch ga iru nante arienai' đã tồn tại.\n",
      "Đã hợp nhất nội dung từ '152-boku-no-bungeibu-ni-bitch-ga-iru-nante-arienai' vào 'boku no bungeibu ni bitch ga iru nante arienai'\n",
      "Thư mục đích 'saenai kanojo no sodatekata' đã tồn tại.\n",
      "Đã hợp nhất nội dung từ '153-saenai-kanojo-no-sodatekata' vào 'saenai kanojo no sodatekata'\n",
      "Thư mục đích 'omae wo onii chan ni shite yarouka' đã tồn tại.\n",
      "Đã hợp nhất nội dung từ '158-omae-wo-onii-chan-ni-shite-yarouka' vào 'omae wo onii chan ni shite yarouka'\n",
      "Thư mục đích 'zero no tsukaima' đã tồn tại.\n"
     ]
    },
    {
     "name": "stderr",
     "output_type": "stream",
     "text": [
      "Đang đổi tên thư mục:  13%|█▎        | 45/341 [00:01<00:08, 35.83it/s]"
     ]
    },
    {
     "name": "stdout",
     "output_type": "stream",
     "text": [
      "Đã hợp nhất nội dung từ '16-zero-no-tsukaima' vào 'zero no tsukaima'\n",
      "Thư mục đích 'zaregoto' đã tồn tại.\n",
      "Đã hợp nhất nội dung từ '161-zaregoto' vào 'zaregoto'\n",
      "Thư mục đích 'angel beats track zero' đã tồn tại.\n",
      "Đã hợp nhất nội dung từ '162-angel-beats-track-zero' vào 'angel beats track zero'\n",
      "Thư mục đích 'death note another note' đã tồn tại.\n",
      "Đã hợp nhất nội dung từ '163-death-note-another-note' vào 'death note another note'\n",
      "Thư mục đích 'magika no kenshi to shoukan maou' đã tồn tại.\n",
      "Đã hợp nhất nội dung từ '165-magika-no-kenshi-to-shoukan-maou' vào 'magika no kenshi to shoukan maou'\n",
      "Thư mục đích 'remonster' đã tồn tại.\n",
      "Đã hợp nhất nội dung từ '166-remonster' vào 'remonster'\n",
      "Thư mục đích 'infinite stratos' đã tồn tại.\n",
      "Đã hợp nhất nội dung từ '17-infinite-stratos' vào 'infinite stratos'\n",
      "Thư mục đích 'absolute duo' đã tồn tại.\n",
      "Đã hợp nhất nội dung từ '170-absolute-duo' vào 'absolute duo'\n",
      "Thư mục đích 'gakusen toshi asterisk' đã tồn tại.\n",
      "Đã hợp nhất nội dung từ '172-gakusen-toshi-asterisk' vào 'gakusen toshi asterisk'\n",
      "Thư mục đích 'sword art online progressive' đã tồn tại.\n",
      "Đã hợp nhất nội dung từ '175-sword-art-online-progressive' vào 'sword art online progressive'\n",
      "Thư mục đích 'aldnoah zero extra' đã tồn tại.\n",
      "Đã hợp nhất nội dung từ '176-aldnoah-zero-extra' vào 'aldnoah zero extra'\n",
      "Thư mục đích 'washio sumi wa yuusha de aru' đã tồn tại.\n",
      "Đã hợp nhất nội dung từ '178-washio-sumi-wa-yuusha-de-aru' vào 'washio sumi wa yuusha de aru'\n",
      "Thư mục đích 'hidan no aria' đã tồn tại.\n",
      "Đã hợp nhất nội dung từ '18-hidan-no-aria' vào 'hidan no aria'\n",
      "Thư mục đích 'nejimaki seirei senki tenkyou no alderamin' đã tồn tại.\n",
      "Đã hợp nhất nội dung từ '181-nejimaki-seirei-senki-tenkyou-no-alderamin' vào 'nejimaki seirei senki tenkyou no alderamin'\n",
      "Thư mục đích 'ore no nounai sentakushi ga gakuen love come o zenryoku de jama shiteiru' đã tồn tại.\n",
      "Đã hợp nhất nội dung từ '183-ore-no-nounai-sentakushi-ga-gakuen-love-come-o-zenryoku-de-jama-shiteiru' vào 'ore no nounai sentakushi ga gakuen love come o zenryoku de jama shiteiru'\n",
      "Thư mục đích 'kenja no deshi wo nanoru kenja' đã tồn tại.\n",
      "Đã hợp nhất nội dung từ '184-kenja-no-deshi-wo-nanoru-kenja' vào 'kenja no deshi wo nanoru kenja'\n",
      "Thư mục đích 'omae o otaku ni shiteyaru kara ore ni riajuu ni shitekure' đã tồn tại.\n",
      "Đã hợp nhất nội dung từ '185-omae-o-otaku-ni-shiteyaru-kara-ore-ni-riajuu-ni-shitekure' vào 'omae o otaku ni shiteyaru kara ore ni riajuu ni shitekure'\n",
      "Thư mục đích 'seikoku no dragonar' đã tồn tại.\n",
      "Đã hợp nhất nội dung từ '195-seikoku-no-dragonar' vào 'seikoku no dragonar'\n",
      "Thư mục đích 'kenkyo kenjitsu o motto ni ikite orimasu' đã tồn tại.\n",
      "Đã hợp nhất nội dung từ '196-kenkyo-kenjitsu-o-motto-ni-ikite-orimasu' vào 'kenkyo kenjitsu o motto ni ikite orimasu'\n",
      "Thư mục đích 'gun ota ga mahou sekai ni tensei shitara webnovel' đã tồn tại.\n"
     ]
    },
    {
     "name": "stderr",
     "output_type": "stream",
     "text": [
      "Đang đổi tên thư mục:  15%|█▌        | 52/341 [00:01<00:08, 34.95it/s]"
     ]
    },
    {
     "name": "stdout",
     "output_type": "stream",
     "text": [
      "Đã hợp nhất nội dung từ '199-gun-ota-ga-mahou-sekai-ni-tensei-shitara-webnovel' vào 'gun ota ga mahou sekai ni tensei shitara webnovel'\n",
      "Thư mục đích 'baka to test to shoukanjuu' đã tồn tại.\n",
      "Đã hợp nhất nội dung từ '20-baka-to-test-to-shoukanjuu' vào 'baka to test to shoukanjuu'\n",
      "Thư mục đích 'mokushiroku arisu' đã tồn tại.\n",
      "Đã hợp nhất nội dung từ '201-mokushiroku-arisu' vào 'mokushiroku arisu'\n",
      "Thư mục đích 'tsurugi no joou to rakuin no ko' đã tồn tại.\n",
      "Đã hợp nhất nội dung từ '202-tsurugi-no-joou-to-rakuin-no-ko' vào 'tsurugi no joou to rakuin no ko'\n",
      "Thư mục đích 'macaron daisuki na onnanoko ga dounika kounika sennen ikitsuzukeru ohanashi' đã tồn tại.\n",
      "Đã hợp nhất nội dung từ '203-macaron-daisuki-na-onnanoko-ga-dounika-kounika-sennen-ikitsuzukeru-ohanashi' vào 'macaron daisuki na onnanoko ga dounika kounika sennen ikitsuzukeru ohanashi'\n",
      "Thư mục đích 'hataraku maou sama' đã tồn tại.\n"
     ]
    },
    {
     "name": "stderr",
     "output_type": "stream",
     "text": [
      "Đang đổi tên thư mục:  19%|█▉        | 64/341 [00:02<00:08, 32.87it/s]"
     ]
    },
    {
     "name": "stdout",
     "output_type": "stream",
     "text": [
      "Đã hợp nhất nội dung từ '204-hataraku-maou-sama' vào 'hataraku maou sama'\n",
      "Thư mục đích 'harmony' đã tồn tại.\n",
      "Đã hợp nhất nội dung từ '205-harmony' vào 'harmony'\n",
      "Thư mục đích 'seiken tsukai no world break' đã tồn tại.\n",
      "Đã hợp nhất nội dung từ '206-seiken-tsukai-no-world-break' vào 'seiken tsukai no world break'\n",
      "Thư mục đích 'the new gate' đã tồn tại.\n",
      "Đã hợp nhất nội dung từ '207-the-new-gate' vào 'the new gate'\n",
      "Thư mục đích 'rokka no yuusha' đã tồn tại.\n",
      "Đã hợp nhất nội dung từ '208-rokka-no-yuusha' vào 'rokka no yuusha'\n",
      "Thư mục đích 'dungeon ni deai wo motomeru no wa machigatteiru darou ka' đã tồn tại.\n",
      "Đã hợp nhất nội dung từ '209-dungeon-ni-deai-wo-motomeru-no-wa-machigatteiru-darou-ka' vào 'dungeon ni deai wo motomeru no wa machigatteiru darou ka'\n",
      "Thư mục đích 'waltraute san no konkatsu jijou' đã tồn tại.\n",
      "Đã hợp nhất nội dung từ '21-waltraute-san-no-konkatsu-jijou' vào 'waltraute san no konkatsu jijou'\n",
      "Thư mục đích 'unlimited fafnir' đã tồn tại.\n",
      "Đã hợp nhất nội dung từ '210-unlimited-fafnir' vào 'unlimited fafnir'\n",
      "Thư mục đích 'legendary moonlight sculptor' đã tồn tại.\n",
      "Đã hợp nhất nội dung từ '212-legendary-moonlight-sculptor' vào 'legendary moonlight sculptor'\n",
      "Thư mục đích 'konjiki no word master' đã tồn tại.\n"
     ]
    },
    {
     "name": "stderr",
     "output_type": "stream",
     "text": [
      "Đang đổi tên thư mục:  20%|█▉        | 68/341 [00:02<00:16, 16.80it/s]"
     ]
    },
    {
     "name": "stdout",
     "output_type": "stream",
     "text": [
      "Đã hợp nhất nội dung từ '214-konjiki-no-word-master' vào 'konjiki no word master'\n",
      "Thư mục đích 'rakudai kishi no eiyuutan' đã tồn tại.\n",
      "Đã hợp nhất nội dung từ '215-rakudai-kishi-no-eiyuutan' vào 'rakudai kishi no eiyuutan'\n",
      "Thư mục đích 'arifureta shokugyou de sekai saikyou' đã tồn tại.\n",
      "Đã hợp nhất nội dung từ '216-arifureta-shokugyou-de-sekai-saikyou' vào 'arifureta shokugyou de sekai saikyou'\n",
      "Thư mục đích 'sekai no owari no encore' đã tồn tại.\n",
      "Đã hợp nhất nội dung từ '218-sekai-no-owari-no-encore' vào 'sekai no owari no encore'\n",
      "Thư mục đích 'dieu hanh tu than den the gioi song song' đã tồn tại.\n"
     ]
    },
    {
     "name": "stderr",
     "output_type": "stream",
     "text": [
      "Đang đổi tên thư mục:  22%|██▏       | 74/341 [00:03<00:19, 13.43it/s]"
     ]
    },
    {
     "name": "stdout",
     "output_type": "stream",
     "text": [
      "Đã hợp nhất nội dung từ '219-dieu-hanh-tu-than-den-the-gioi-song-song' vào 'dieu hanh tu than den the gioi song song'\n",
      "Thư mục đích 'tsuyokute new saga' đã tồn tại.\n",
      "Đã hợp nhất nội dung từ '220-tsuyokute-new-saga' vào 'tsuyokute new saga'\n",
      "Thư mục đích 'strike the blood' đã tồn tại.\n",
      "Đã hợp nhất nội dung từ '221-strike-the-blood' vào 'strike the blood'\n",
      "Thư mục đích 'toradora' đã tồn tại.\n",
      "Đã hợp nhất nội dung từ '222-toradora' vào 'toradora'\n",
      "Thư mục đích 'thap nhi quoc ky the twelve kingdoms' đã tồn tại.\n",
      "Đã hợp nhất nội dung từ '224-thap-nhi-quoc-ky-the-twelve-kingdoms' vào 'thap nhi quoc ky the twelve kingdoms'\n"
     ]
    },
    {
     "name": "stderr",
     "output_type": "stream",
     "text": [
      "Đang đổi tên thư mục:  23%|██▎       | 79/341 [00:03<00:16, 15.99it/s]"
     ]
    },
    {
     "name": "stdout",
     "output_type": "stream",
     "text": [
      "Thư mục đích 'slayers' đã tồn tại.\n",
      "Đã hợp nhất nội dung từ '225-slayers' vào 'slayers'\n",
      "Thư mục đích 'hanbun no tsuki ga noboru sora' đã tồn tại.\n",
      "Đã hợp nhất nội dung từ '226-hanbun-no-tsuki-ga-noboru-sora' vào 'hanbun no tsuki ga noboru sora'\n",
      "Thư mục đích 'mimizuku to yoru no ou' đã tồn tại.\n",
      "Đã hợp nhất nội dung từ '227-mimizuku-to-yoru-no-ou' vào 'mimizuku to yoru no ou'\n",
      "Thư mục đích 'kagerou project' đã tồn tại.\n",
      "Đã hợp nhất nội dung từ '229-kagerou-project' vào 'kagerou project'\n",
      "Thư mục đích 'monogatari series' đã tồn tại.\n",
      "Đã hợp nhất nội dung từ '23-monogatari-series' vào 'monogatari series'\n"
     ]
    },
    {
     "name": "stderr",
     "output_type": "stream",
     "text": [
      "Đang đổi tên thư mục:  25%|██▍       | 84/341 [00:03<00:12, 20.38it/s]"
     ]
    },
    {
     "name": "stdout",
     "output_type": "stream",
     "text": [
      "Thư mục đích 'high speed' đã tồn tại.\n",
      "Đã hợp nhất nội dung từ '230-high-speed' vào 'high speed'\n",
      "Thư mục đích 'kokoro connect' đã tồn tại.\n",
      "Đã hợp nhất nội dung từ '231-kokoro-connect' vào 'kokoro connect'\n",
      "Thư mục đích 'taimadou gakuen 35 shiken shoutai' đã tồn tại.\n",
      "Đã hợp nhất nội dung từ '232-taimadou-gakuen-35-shiken-shoutai' vào 'taimadou gakuen 35 shiken shoutai'\n",
      "Thư mục đích 'haken no kouki altina' đã tồn tại.\n",
      "Đã hợp nhất nội dung từ '234-haken-no-kouki-altina' vào 'haken no kouki altina'\n",
      "Thư mục đích 'black bullet' đã tồn tại.\n",
      "Đã hợp nhất nội dung từ '235-black-bullet' vào 'black bullet'\n",
      "Thư mục đích 'sendai yuusha wa inkyou shitai' đã tồn tại.\n",
      "Đã hợp nhất nội dung từ '236-sendai-yuusha-wa-inkyou-shitai' vào 'sendai yuusha wa inkyou shitai'\n",
      "Thư mục đích 'boku wa tomodachi ga sukunai' đã tồn tại.\n",
      "Đã hợp nhất nội dung từ '24-boku-wa-tomodachi-ga-sukunai' vào 'boku wa tomodachi ga sukunai'\n",
      "Thư mục đích 'utsuro no hako to zero no maria' đã tồn tại.\n"
     ]
    },
    {
     "name": "stderr",
     "output_type": "stream",
     "text": [
      "Đang đổi tên thư mục:  26%|██▌       | 87/341 [00:03<00:11, 21.55it/s]"
     ]
    },
    {
     "name": "stdout",
     "output_type": "stream",
     "text": [
      "Đã hợp nhất nội dung từ '241-utsuro-no-hako-to-zero-no-maria' vào 'utsuro no hako to zero no maria'\n",
      "Thư mục đích 'isekai shihai no sukiruteika zero kara hajimeru dorei harem' đã tồn tại.\n",
      "Đã hợp nhất nội dung từ '243-isekai-shihai-no-sukiruteika-zero-kara-hajimeru-dorei-harem' vào 'isekai shihai no sukiruteika zero kara hajimeru dorei harem'\n",
      "Thư mục đích 'rokujouma no shinryakusha' đã tồn tại.\n"
     ]
    },
    {
     "name": "stderr",
     "output_type": "stream",
     "text": [
      "Đang đổi tên thư mục:  26%|██▋       | 90/341 [00:04<00:18, 13.76it/s]"
     ]
    },
    {
     "name": "stdout",
     "output_type": "stream",
     "text": [
      "Đã hợp nhất nội dung từ '247-rokujouma-no-shinryakusha' vào 'rokujouma no shinryakusha'\n",
      "Thư mục đích 'isekai maou to shoukan shoujo no dorei majutsu' đã tồn tại.\n",
      "Đã hợp nhất nội dung từ '250-isekai-maou-to-shoukan-shoujo-no-dorei-majutsu' vào 'isekai maou to shoukan shoujo no dorei majutsu'\n",
      "Thư mục đích 'overlord' đã tồn tại.\n",
      "Đã hợp nhất nội dung từ '253-overlord' vào 'overlord'\n",
      "Thư mục đích 'world customize creator' đã tồn tại.\n",
      "Đã hợp nhất nội dung từ '254-world-customize-creator' vào 'world customize creator'\n",
      "Thư mục đích 'toi la nhen thi sao' đã tồn tại.\n"
     ]
    },
    {
     "name": "stderr",
     "output_type": "stream",
     "text": [
      "Đang đổi tên thư mục:  29%|██▉       | 99/341 [00:04<00:14, 16.27it/s]"
     ]
    },
    {
     "name": "stdout",
     "output_type": "stream",
     "text": [
      "Đã hợp nhất nội dung từ '259-toi-la-nhen-thi-sao' vào 'toi la nhen thi sao'\n",
      "Thư mục đích 'heavy object' đã tồn tại.\n",
      "Đã hợp nhất nội dung từ '26-heavy-object' vào 'heavy object'\n",
      "Thư mục đích 'boku wa isekai de fuyo mahou to shoukan mahou wo tenbin ni kakeru' đã tồn tại.\n",
      "Đã hợp nhất nội dung từ '260-boku-wa-isekai-de-fuyo-mahou-to-shoukan-mahou-wo-tenbin-ni-kakeru' vào 'boku wa isekai de fuyo mahou to shoukan mahou wo tenbin ni kakeru'\n",
      "Thư mục đích 'silver cross and draculea' đã tồn tại.\n",
      "Đã hợp nhất nội dung từ '263-silver-cross-and-draculea' vào 'silver cross and draculea'\n",
      "Thư mục đích 'isekai meikyuu no saishinbu wo mezasou' đã tồn tại.\n",
      "Đã hợp nhất nội dung từ '264-isekai-meikyuu-no-saishinbu-wo-mezasou' vào 'isekai meikyuu no saishinbu wo mezasou'\n",
      "Thư mục đích 'takarakuji de 40 oku atattanda kedo isekai ni ijuusuru' đã tồn tại.\n",
      "Đã hợp nhất nội dung từ '265-takarakuji-de-40-oku-atattanda-kedo-isekai-ni-ijuusuru' vào 'takarakuji de 40 oku atattanda kedo isekai ni ijuusuru'\n",
      "Thư mục đích 'tsuki tsuki' đã tồn tại.\n",
      "Đã hợp nhất nội dung từ '266-tsuki-tsuki' vào 'tsuki tsuki'\n",
      "Thư mục đích 'yuusha party no kawaii ko ga ita no de kokuhaku shite mita' đã tồn tại.\n"
     ]
    },
    {
     "name": "stderr",
     "output_type": "stream",
     "text": [
      "Đang đổi tên thư mục:  30%|██▉       | 102/341 [00:05<00:14, 16.42it/s]"
     ]
    },
    {
     "name": "stdout",
     "output_type": "stream",
     "text": [
      "Đã hợp nhất nội dung từ '267-yuusha-party-no-kawaii-ko-ga-ita-no-de-kokuhaku-shite-mita' vào 'yuusha party no kawaii ko ga ita no de kokuhaku shite mita'\n",
      "Thư mục đích 'to deprive a deprived person' đã tồn tại.\n",
      "Đã hợp nhất nội dung từ '269-to-deprive-a-deprived-person' vào 'to deprive a deprived person'\n",
      "Thư mục đích 'suzumiya haruhi' đã tồn tại.\n",
      "Đã hợp nhất nội dung từ '27-suzumiya-haruhi' vào 'suzumiya haruhi'\n",
      "Thư mục đích 'shuumatsu nani shitemasu ka isogashii desu ka sukutte moratte ii desu ka' đã tồn tại.\n",
      "Đã hợp nhất nội dung từ '270-shuumatsu-nani-shitemasu-ka-isogashii-desu-ka-sukutte-moratte-ii-desu-ka' vào 'shuumatsu nani shitemasu ka isogashii desu ka sukutte moratte ii desu ka'\n",
      "Thư mục đích 'tilea no nayamigoto' đã tồn tại.\n",
      "Đã hợp nhất nội dung từ '271-tilea-no-nayamigoto' vào 'tilea no nayamigoto'\n",
      "Thư mục đích 'kamigoroshi no eiyuu to nanatsu no seiyaku' đã tồn tại.\n"
     ]
    },
    {
     "name": "stderr",
     "output_type": "stream",
     "text": [
      "Đang đổi tên thư mục:  32%|███▏      | 110/341 [00:05<00:10, 21.83it/s]"
     ]
    },
    {
     "name": "stdout",
     "output_type": "stream",
     "text": [
      "Đã hợp nhất nội dung từ '272-kamigoroshi-no-eiyuu-to-nanatsu-no-seiyaku' vào 'kamigoroshi no eiyuu to nanatsu no seiyaku'\n",
      "Thư mục đích 'cau tam toi khong nghi vay' đã tồn tại.\n",
      "Đã hợp nhất nội dung từ '275-cau-tam-toi-khong-nghi-vay' vào 'cau tam toi khong nghi vay'\n",
      "Thư mục đích 'vi con gai toi co the danh bai ca ma vuong wn' đã tồn tại.\n",
      "Đã hợp nhất nội dung từ '284-vi-con-gai-toi-co-the-danh-bai-ca-ma-vuong-wn' vào 'vi con gai toi co the danh bai ca ma vuong wn'\n",
      "Thư mục đích 'im a neet but when i went to hello work i got taken to another world' đã tồn tại.\n",
      "Đã hợp nhất nội dung từ '287-im-a-neet-but-when-i-went-to-hello-work-i-got-taken-to-another-world' vào 'im a neet but when i went to hello work i got taken to another world'\n",
      "Thư mục đích 'magis grandson new2' đã tồn tại.\n",
      "Đã hợp nhất nội dung từ '289-magis-grandson-new2' vào 'magis grandson new2'\n",
      "Thư mục đích 'ore no shibou flag ga todomaru tokoro wo shiranai' đã tồn tại.\n",
      "Đã hợp nhất nội dung từ '290-ore-no-shibou-flag-ga-todomaru-tokoro-wo-shiranai' vào 'ore no shibou flag ga todomaru tokoro wo shiranai'\n",
      "Thư mục đích 'kouritsu kuriya madoushi daini no jinsei de madou o kiwameru' đã tồn tại.\n",
      "Đã hợp nhất nội dung từ '293-kouritsu-kuriya-madoushi-daini-no-jinsei-de-madou-o-kiwameru' vào 'kouritsu kuriya madoushi daini no jinsei de madou o kiwameru'\n",
      "Thư mục đích 'shinka no mi shiranai uchi ni kachigumi jinsei' đã tồn tại.\n",
      "Đã hợp nhất nội dung từ '301-shinka-no-mi-shiranai-uchi-ni-kachigumi-jinsei' vào 'shinka no mi shiranai uchi ni kachigumi jinsei'\n",
      "Thư mục đích 'watashi nouryoku wa heikinchi de tte itta yo ne' đã tồn tại.\n"
     ]
    },
    {
     "name": "stderr",
     "output_type": "stream",
     "text": [
      "Đang đổi tên thư mục:  33%|███▎      | 113/341 [00:05<00:11, 19.02it/s]"
     ]
    },
    {
     "name": "stdout",
     "output_type": "stream",
     "text": [
      "Đã hợp nhất nội dung từ '303-watashi-nouryoku-wa-heikinchi-de-tte-itta-yo-ne' vào 'watashi nouryoku wa heikinchi de tte itta yo ne'\n",
      "Thư mục đích 'genjitsu shugi yuusha no oukoku saikenki' đã tồn tại.\n",
      "Đã hợp nhất nội dung từ '305-genjitsu-shugi-yuusha-no-oukoku-saikenki' vào 'genjitsu shugi yuusha no oukoku saikenki'\n",
      "Thư mục đích 'toaru majutsu no index' đã tồn tại.\n"
     ]
    },
    {
     "name": "stderr",
     "output_type": "stream",
     "text": [
      "Đang đổi tên thư mục:  34%|███▍      | 116/341 [00:05<00:13, 16.24it/s]"
     ]
    },
    {
     "name": "stdout",
     "output_type": "stream",
     "text": [
      "Đã hợp nhất nội dung từ '31-toaru-majutsu-no-index' vào 'toaru majutsu no index'\n",
      "Thư mục đích 'tensei tantou megami ga 100 hito itanode chiitosukiru 100 ko moraeta' đã tồn tại.\n",
      "Đã hợp nhất nội dung từ '314-tensei-tantou-megami-ga-100-hito-itanode-chiitosukiru-100-ko-moraeta' vào 'tensei tantou megami ga 100 hito itanode chiitosukiru 100 ko moraeta'\n",
      "Thư mục đích 'masou gakuen hxh' đã tồn tại.\n",
      "Đã hợp nhất nội dung từ '316-masou-gakuen-hxh' vào 'masou gakuen hxh'\n",
      "Thư mục đích 'zettai ni hatarakitakunai dungeon master ga damin wo musaboru made' đã tồn tại.\n",
      "Đã hợp nhất nội dung từ '317-zettai-ni-hatarakitakunai-dungeon-master-ga-damin-wo-musaboru-made' vào 'zettai ni hatarakitakunai dungeon master ga damin wo musaboru made'\n",
      "Thư mục đích 'sakurasou no pet na kanojo' đã tồn tại.\n",
      "Đã hợp nhất nội dung từ '318-sakurasou-no-pet-na-kanojo' vào 'sakurasou no pet na kanojo'\n",
      "Thư mục đích 'chuuko demo koi ga shitai' đã tồn tại.\n",
      "Đã hợp nhất nội dung từ '319-chuuko-demo-koi-ga-shitai' vào 'chuuko demo koi ga shitai'\n",
      "Thư mục đích 'oreta seiken to teikan no kenki' đã tồn tại.\n",
      "Đã hợp nhất nội dung từ '322-oreta-seiken-to-teikan-no-kenki' vào 'oreta seiken to teikan no kenki'\n",
      "Thư mục đích 'tenseisha wa cheat o nozomanai' đã tồn tại.\n",
      "Đã hợp nhất nội dung từ '324-tenseisha-wa-cheat-o-nozomanai' vào 'tenseisha wa cheat o nozomanai'\n",
      "Thư mục đích 'kaette kita motoyuusha' đã tồn tại.\n"
     ]
    },
    {
     "name": "stderr",
     "output_type": "stream",
     "text": [
      "Đang đổi tên thư mục:  36%|███▌      | 123/341 [00:06<00:10, 20.98it/s]"
     ]
    },
    {
     "name": "stdout",
     "output_type": "stream",
     "text": [
      "Đã hợp nhất nội dung từ '326-kaette-kita-motoyuusha' vào 'kaette kita motoyuusha'\n",
      "Thư mục đích 'i became a living cheat' đã tồn tại.\n",
      "Đã hợp nhất nội dung từ '328-i-became-a-living-cheat' vào 'i became a living cheat'\n",
      "Thư mục đích 'boku wa isekai de fuyo mahou to shoukan mahou wo tenbin ni kakeru' đã tồn tại.\n"
     ]
    },
    {
     "name": "stderr",
     "output_type": "stream",
     "text": [
      "Đang đổi tên thư mục:  37%|███▋      | 126/341 [00:06<00:14, 14.50it/s]"
     ]
    },
    {
     "name": "stdout",
     "output_type": "stream",
     "text": [
      "Đã hợp nhất nội dung từ '330-boku-wa-isekai-de-fuyo-mahou-to-shoukan-mahou-wo-tenbin-ni-kakeru' vào 'boku wa isekai de fuyo mahou to shoukan mahou wo tenbin ni kakeru'\n",
      "Thư mục đích 'kenshi o mezashite nyugaku shitanoni maho tekisei 9999 nandesukedo' đã tồn tại.\n",
      "Đã hợp nhất nội dung từ '332-kenshi-o-mezashite-nyugaku-shitanoni-maho-tekisei-9999-nandesukedo' vào 'kenshi o mezashite nyugaku shitanoni maho tekisei 9999 nandesukedo'\n",
      "Thư mục đích 'ultimate antihero' đã tồn tại.\n",
      "Đã hợp nhất nội dung từ '333-ultimate-antihero' vào 'ultimate antihero'\n",
      "Thư mục đích 'ore no pet wa seijo sama' đã tồn tại.\n",
      "Đã hợp nhất nội dung từ '334-ore-no-pet-wa-seijo-sama' vào 'ore no pet wa seijo sama'\n",
      "Thư mục đích 'phenomeno' đã tồn tại.\n",
      "Đã hợp nhất nội dung từ '34-phenomeno' vào 'phenomeno'\n",
      "Thư mục đích 'description' đã tồn tại.\n",
      "Đã hợp nhất nội dung từ '345-description' vào 'description'\n",
      "Thư mục đích 'isekai to watashi docchi ga suki nano' đã tồn tại.\n",
      "Đã hợp nhất nội dung từ '348-isekai-to-watashi-docchi-ga-suki-nano' vào 'isekai to watashi docchi ga suki nano'\n",
      "Thư mục đích 'kuro no maou' đã tồn tại.\n",
      "Đã hợp nhất nội dung từ '349-kuro-no-maou' vào 'kuro no maou'\n",
      "Thư mục đích 'kurasu marugoto jingai tensei saijyaku no sukeruton ni natta ore' đã tồn tại.\n",
      "Đã hợp nhất nội dung từ '356-kurasu-marugoto-jingai-tensei-saijyaku-no-sukeruton-ni-natta-ore' vào 'kurasu marugoto jingai tensei saijyaku no sukeruton ni natta ore'\n",
      "Thư mục đích 're cuoc song o the gioi khac tu so khong' đã tồn tại.\n"
     ]
    },
    {
     "name": "stderr",
     "output_type": "stream",
     "text": [
      "Đang đổi tên thư mục:  42%|████▏     | 143/341 [00:06<00:07, 26.35it/s]"
     ]
    },
    {
     "name": "stdout",
     "output_type": "stream",
     "text": [
      "Đã hợp nhất nội dung từ '358-re-cuoc-song-o-the-gioi-khac-tu-so-khong' vào 're cuoc song o the gioi khac tu so khong'\n",
      "Thư mục đích 'tsuki no sango' đã tồn tại.\n",
      "Đã hợp nhất nội dung từ '36-tsuki-no-sango' vào 'tsuki no sango'\n",
      "Thư mục đích 'ore to kawazu san no isekai hourouki' đã tồn tại.\n",
      "Đã hợp nhất nội dung từ '363-ore-to-kawazu-san-no-isekai-hourouki' vào 'ore to kawazu san no isekai hourouki'\n",
      "Thư mục đích 'izure shinwa no houkago sensou' đã tồn tại.\n",
      "Đã hợp nhất nội dung từ '364-izure-shinwa-no-houkago-sensou' vào 'izure shinwa no houkago sensou'\n",
      "Thư mục đích 'katahane no riku' đã tồn tại.\n",
      "Đã hợp nhất nội dung từ '368-katahane-no-riku' vào 'katahane no riku'\n",
      "Thư mục đích 'gakusen toshi asterick' đã tồn tại.\n",
      "Đã hợp nhất nội dung từ '377-gakusen-toshi-asterick' vào 'gakusen toshi asterick'\n",
      "Thư mục đích 'dau thai thanh quy soi tro thanh thuoc ha cua ma vuong' đã tồn tại.\n",
      "Đã hợp nhất nội dung từ '381-dau-thai-thanh-quy-soi-tro-thanh-thuoc-ha-cua-ma-vuong' vào 'dau thai thanh quy soi tro thanh thuoc ha cua ma vuong'\n",
      "Thư mục đích 'zombie no afureta sekai de ore dake ga osowarenai' đã tồn tại.\n",
      "Đã hợp nhất nội dung từ '387-zombie-no-afureta-sekai-de-ore-dake-ga-osowarenai' vào 'zombie no afureta sekai de ore dake ga osowarenai'\n",
      "Thư mục đích 'okashi shokunin no nariagari tensai patishie no ryouchi keiei' đã tồn tại.\n",
      "Đã hợp nhất nội dung từ '395-okashi-shokunin-no-nariagari-tensai-patishie-no-ryouchi-keiei' vào 'okashi shokunin no nariagari tensai patishie no ryouchi keiei'\n",
      "Thư mục đích 'isekai ni tensei shitandakedo ore tensai tte kanchigai saretenai' đã tồn tại.\n",
      "Đã hợp nhất nội dung từ '396-isekai-ni-tensei-shitandakedo-ore-tensai-tte-kanchigai-saretenai' vào 'isekai ni tensei shitandakedo ore tensai tte kanchigai saretenai'\n",
      "Thư mục đích 'lv999 villager new' đã tồn tại.\n",
      "Đã hợp nhất nội dung từ '397-lv999-villager-new' vào 'lv999 villager new'\n",
      "Thư mục đích 'chuuko demo koi ga shitai' đã tồn tại.\n",
      "Đã hợp nhất nội dung từ '406-chuuko-demo-koi-ga-shitai' vào 'chuuko demo koi ga shitai'\n",
      "Thư mục đích 'zero kara hajimeru mahou no sho' đã tồn tại.\n",
      "Đã hợp nhất nội dung từ '408-zero-kara-hajimeru-mahou-no-sho' vào 'zero kara hajimeru mahou no sho'\n",
      "Thư mục đích 'isekai mahou wa okureteru' đã tồn tại.\n",
      "Đã hợp nhất nội dung từ '409-isekai-mahou-wa-okureteru' vào 'isekai mahou wa okureteru'\n",
      "Thư mục đích 'jinsei reset button' đã tồn tại.\n",
      "Đã hợp nhất nội dung từ '418-jinsei-reset-button' vào 'jinsei reset button'\n",
      "Thư mục đích 'tensei shitara slime datta ken' đã tồn tại.\n"
     ]
    },
    {
     "name": "stderr",
     "output_type": "stream",
     "text": [
      "Đang đổi tên thư mục:  44%|████▎     | 149/341 [00:07<00:06, 29.69it/s]"
     ]
    },
    {
     "name": "stdout",
     "output_type": "stream",
     "text": [
      "Đã hợp nhất nội dung từ '424-tensei-shitara-slime-datta-ken' vào 'tensei shitara slime datta ken'\n",
      "Thư mục đích 'manga wo yomeru ore ga sekai saikyou' đã tồn tại.\n",
      "Đã hợp nhất nội dung từ '428-manga-wo-yomeru-ore-ga-sekai-saikyou' vào 'manga wo yomeru ore ga sekai saikyou'\n",
      "Thư mục đích 'lazy dungeon master' đã tồn tại.\n"
     ]
    },
    {
     "name": "stderr",
     "output_type": "stream",
     "text": [
      "Đang đổi tên thư mục:  45%|████▌     | 154/341 [00:07<00:07, 23.44it/s]"
     ]
    },
    {
     "name": "stdout",
     "output_type": "stream",
     "text": [
      "Đã hợp nhất nội dung từ '429-lazy-dungeon-master' vào 'lazy dungeon master'\n",
      "Thư mục đích 'durarara' đã tồn tại.\n",
      "Đã hợp nhất nội dung từ '43-durarara' vào 'durarara'\n",
      "Thư mục đích 'kare to hitokui no nichijiou' đã tồn tại.\n",
      "Đã hợp nhất nội dung từ '441-kare-to-hitokui-no-nichijiou' vào 'kare to hitokui no nichijiou'\n",
      "Thư mục đích 'i reincarnated into an otome game as a villainess with only destruction flags' đã tồn tại.\n",
      "Đã hợp nhất nội dung từ '446-i-reincarnated-into-an-otome-game-as-a-villainess-with-only-destruction-flags' vào 'i reincarnated into an otome game as a villainess with only destruction flags'\n",
      "Thư mục đích 'reincarnated as a dragons egg lets aim to be the strongest' đã tồn tại.\n"
     ]
    },
    {
     "name": "stderr",
     "output_type": "stream",
     "text": [
      "Đang đổi tên thư mục:  48%|████▊     | 164/341 [00:08<00:09, 19.57it/s]"
     ]
    },
    {
     "name": "stdout",
     "output_type": "stream",
     "text": [
      "Đã hợp nhất nội dung từ '447-reincarnated-as-a-dragons-egg-lets-aim-to-be-the-strongest' vào 'reincarnated as a dragons egg lets aim to be the strongest'\n",
      "Thư mục đích 'young god divine armaments' đã tồn tại.\n",
      "Đã hợp nhất nội dung từ '448-young-god-divine-armaments' vào 'young god divine armaments'\n",
      "Thư mục đích 'um sorry ive been reincarnated' đã tồn tại.\n",
      "Đã hợp nhất nội dung từ '468-um-sorry-ive-been-reincarnated' vào 'um sorry ive been reincarnated'\n",
      "Thư mục đích 'doudemo ii sekai nante' đã tồn tại.\n",
      "Đã hợp nhất nội dung từ '479-doudemo-ii-sekai-nante' vào 'doudemo ii sekai nante'\n",
      "Thư mục đích 'no game no life' đã tồn tại.\n",
      "Đã hợp nhất nội dung từ '486-no-game-no-life' vào 'no game no life'\n",
      "Thư mục đích 'date a live' đã tồn tại.\n",
      "Đã hợp nhất nội dung từ '60-date-a-live' vào 'date a live'\n",
      "Thư mục đích 'ore no real to netgame ga love comedy ni shinshokusare hajimete yabai' đã tồn tại.\n",
      "Đã hợp nhất nội dung từ '64-ore-no-real-to-netgame-ga-love-comedy-ni-shinshokusare-hajimete-yabai' vào 'ore no real to netgame ga love comedy ni shinshokusare hajimete yabai'\n",
      "Thư mục đích 'kikou shoujo wa kizutsukanai' đã tồn tại.\n",
      "Đã hợp nhất nội dung từ '67-kikou-shoujo-wa-kizutsukanai' vào 'kikou shoujo wa kizutsukanai'\n",
      "Thư mục đích 'kamisu reina' đã tồn tại.\n",
      "Đã hợp nhất nội dung từ '68-kamisu-reina' vào 'kamisu reina'\n",
      "Thư mục đích 'shuuen no shiori' đã tồn tại.\n",
      "Đã hợp nhất nội dung từ '74-shuuen-no-shiori' vào 'shuuen no shiori'\n",
      "Thư mục đích 'hyouketsu kyoukai no eden' đã tồn tại.\n",
      "Đã hợp nhất nội dung từ '77-hyouketsu-kyoukai-no-eden' vào 'hyouketsu kyoukai no eden'\n",
      "Thư mục đích 'sayonara piano sonata' đã tồn tại.\n",
      "Đã hợp nhất nội dung từ '8-sayonara-piano-sonata' vào 'sayonara piano sonata'\n",
      "Thư mục đích 'hyouka' đã tồn tại.\n",
      "Đã hợp nhất nội dung từ '80-hyouka' vào 'hyouka'\n",
      "Thư mục đích 'byousoku 5 centimeter' đã tồn tại.\n",
      "Đã hợp nhất nội dung từ '81-byousoku-5-centimeter' vào 'byousoku 5 centimeter'\n",
      "Thư mục đích 'tsukumodou kottouten fushigi toriatsukaimasu' đã tồn tại.\n",
      "Đã hợp nhất nội dung từ '87-tsukumodou-kottouten-fushigi-toriatsukaimasu' vào 'tsukumodou kottouten fushigi toriatsukaimasu'\n",
      "Thư mục đích 'kino no tabi the beautiful world' đã tồn tại.\n"
     ]
    },
    {
     "name": "stderr",
     "output_type": "stream",
     "text": [
      "Đang đổi tên thư mục: 100%|██████████| 341/341 [00:08<00:00, 41.40it/s]"
     ]
    },
    {
     "name": "stdout",
     "output_type": "stream",
     "text": [
      "Đã hợp nhất nội dung từ '88-kino-no-tabi-the-beautiful-world' vào 'kino no tabi the beautiful world'\n",
      "Thư mục đích 'oniichan dakedo ai sae areba kankeinai yo ne' đã tồn tại.\n",
      "Đã hợp nhất nội dung từ '9-oniichan-dakedo-ai-sae-areba-kankeinai-yo-ne' vào 'oniichan dakedo ai sae areba kankeinai yo ne'\n",
      "Thư mục đích 'kara no kyoukai ranh gioi hu khong' đã tồn tại.\n",
      "Đã hợp nhất nội dung từ '99-kara-no-kyoukai-ranh-gioi-hu-khong' vào 'kara no kyoukai ranh gioi hu khong'\n",
      "Hoàn tất đổi tên!\n"
     ]
    },
    {
     "name": "stderr",
     "output_type": "stream",
     "text": [
      "\n"
     ]
    }
   ],
   "source": [
    "def normalize_folder_name(name):\n",
    "    # Bỏ số ở đầu và dấu gạch ngang\n",
    "    name = re.sub(r'^\\d+[-_\\s]*', '', name)\n",
    "    # Bỏ dấu gạch ngang và khoảng trắng thừa\n",
    "    name = re.sub(r'[-_]+', ' ', name)\n",
    "    # Chuyển về chữ thường và cắt khoảng trắng đầu/cuối\n",
    "    name = name.lower().strip()\n",
    "    return name\n",
    "\n",
    "# Thư mục chứa các folder cần đổi tên\n",
    "source_dir = 'D:/IE104.P11.CNVN/truyen'\n",
    "\n",
    "# Lấy danh sách các folder\n",
    "items = os.listdir(source_dir)\n",
    "folders = [item for item in items if os.path.isdir(os.path.join(source_dir, item))]\n",
    "\n",
    "print(\"Danh sách thay đổi tên folder:\")\n",
    "for folder in tqdm(folders, desc=\"Đang đổi tên thư mục\"):\n",
    "    old_path = os.path.join(source_dir, folder)\n",
    "    new_name = normalize_folder_name(folder)\n",
    "    new_path = os.path.join(source_dir, new_name)\n",
    "    \n",
    "    try:\n",
    "        if old_path != new_path:\n",
    "            if os.path.exists(new_path):\n",
    "                print(f\"Thư mục đích '{new_name}' đã tồn tại.\")\n",
    "                # Nếu thư mục đích đã tồn tại, hợp nhất nội dung\n",
    "                for item in os.listdir(old_path):\n",
    "                    old_item = os.path.join(old_path, item)\n",
    "                    new_item = os.path.join(new_path, item)\n",
    "                    if not os.path.exists(new_item):\n",
    "                        if os.path.isdir(old_item):\n",
    "                            shutil.copytree(old_item, new_item)\n",
    "                        else:\n",
    "                            shutil.copy2(old_item, new_item)\n",
    "                # Xóa thư mục cũ sau khi đã copy xong\n",
    "                shutil.rmtree(old_path)\n",
    "                print(f\"Đã hợp nhất nội dung từ '{folder}' vào '{new_name}'\")\n",
    "            else:\n",
    "                print(f\"- {folder} -> {new_name}\")\n",
    "                os.rename(old_path, new_path)\n",
    "    except Exception as e:\n",
    "        print(f\"Lỗi khi đổi tên {folder}: {str(e)}\")\n",
    "\n",
    "print(\"Hoàn tất đổi tên!\")"
   ]
  },
  {
   "cell_type": "code",
   "execution_count": 8,
   "metadata": {},
   "outputs": [
    {
     "name": "stdout",
     "output_type": "stream",
     "text": [
      "Tìm thấy 80 thư mục cần di chuyển:\n",
      "- a simple survey\n",
      "- absolute duo\n",
      "- accel world\n",
      "- aldnoah zero extra\n",
      "- all you need is kill\n"
     ]
    },
    {
     "name": "stderr",
     "output_type": "stream",
     "text": [
      "Đang di chuyển thư mục: 100%|██████████| 80/80 [00:00<00:00, 3548.63it/s]"
     ]
    },
    {
     "name": "stdout",
     "output_type": "stream",
     "text": [
      "Đã di chuyển thành công: a simple survey\n",
      "Đã di chuyển thành công: absolute duo\n",
      "Đã di chuyển thành công: accel world\n",
      "Đã di chuyển thành công: aldnoah zero extra\n",
      "Đã di chuyển thành công: all you need is kill\n",
      "Đã di chuyển thành công: arifureta shokugyou de sekai saikyou\n",
      "Đã di chuyển thành công: baka to test to shoukanjuu\n",
      "Đã di chuyển thành công: boku wa tomodachi ga sukunai\n",
      "Đã di chuyển thành công: bungaku shoujo\n",
      "Đã di chuyển thành công: byousoku 5 centimeter\n",
      "Đã di chuyển thành công: clockwork planet\n",
      "Đã di chuyển thành công: dantalian no shoka\n",
      "Đã di chuyển thành công: date a live\n",
      "Đã di chuyển thành công: doudemo ii sekai nante\n",
      "Đã di chuyển thành công: dungeon ni deai wo motomeru no wa machigatteiru darou ka\n",
      "Đã di chuyển thành công: gakusen toshi asterisk\n",
      "Đã di chuyển thành công: gensou sekai no alice tale\n",
      "Đã di chuyển thành công: gundam sentinel\n",
      "Đã di chuyển thành công: haken no kouki altina\n",
      "Đã di chuyển thành công: hanbun no tsuki ga noboru sora\n",
      "Đã di chuyển thành công: harmony\n",
      "Đã di chuyển thành công: heavy object\n",
      "Đã di chuyển thành công: hidan no aria\n",
      "Đã di chuyển thành công: high school dxd\n",
      "Đã di chuyển thành công: hyouka\n",
      "Đã di chuyển thành công: hyouketsu kyoukai no eden\n",
      "Đã di chuyển thành công: infinite stratos\n",
      "Đã di chuyển thành công: izure shinwa no houkago sensou\n",
      "Đã di chuyển thành công: jinsei reset button\n",
      "Đã di chuyển thành công: kagerou project\n",
      "Đã di chuyển thành công: kamisu reina\n",
      "Đã di chuyển thành công: kare to hitokui no nichijiou\n",
      "Đã di chuyển thành công: katahane no riku\n",
      "Đã di chuyển thành công: kenja no deshi wo nanoru kenja\n",
      "Đã di chuyển thành công: kikou shoujo wa kizutsukanai\n",
      "Đã di chuyển thành công: kokoro connect\n",
      "Đã di chuyển thành công: konjiki no word master\n",
      "Đã di chuyển thành công: legendary moonlight sculptor\n",
      "Đã di chuyển thành công: madan no ou to vanadis\n",
      "Đã di chuyển thành công: magika no kenshi to shoukan maou\n",
      "Đã di chuyển thành công: manga wo yomeru ore ga sekai saikyou\n",
      "Đã di chuyển thành công: mimizuku to yoru no ou\n",
      "Đã di chuyển thành công: mokushiroku arisu\n",
      "Đã di chuyển thành công: monogatari series\n",
      "Đã di chuyển thành công: no game no life\n",
      "Đã di chuyển thành công: oda nobuna no yabou\n",
      "Đã di chuyển thành công: ore no imouto ga konna ni kawaii wake ga nai\n",
      "Đã di chuyển thành công: phenomeno\n",
      "Đã di chuyển thành công: psycho love comedy\n",
      "Đã di chuyển thành công: rakudai kishi no eiyuutan\n",
      "Đã di chuyển thành công: rokka no yuusha\n",
      "Đã di chuyển thành công: saenai kanojo no sodatekata\n",
      "Đã di chuyển thành công: sayonara piano sonata\n",
      "Đã di chuyển thành công: seiken tsukai no world break\n",
      "Đã di chuyển thành công: seikoku no dragonar\n",
      "Đã di chuyển thành công: seirei tsukai no blade dance\n",
      "Đã di chuyển thành công: sekai no owari no encore\n",
      "Đã di chuyển thành công: shinonome yuuko\n",
      "Đã di chuyển thành công: shuuen no shiori\n",
      "Đã di chuyển thành công: slayers\n",
      "Đã di chuyển thành công: strike the blood\n",
      "Đã di chuyển thành công: suzumiya haruhi\n",
      "Đã di chuyển thành công: sword art online progressive\n",
      "Đã di chuyển thành công: taimadou gakuen 35 shiken shoutai\n",
      "Đã di chuyển thành công: tensei shitara slime datta ken\n",
      "Đã di chuyển thành công: the new gate\n",
      "Đã di chuyển thành công: toaru majutsu no index\n",
      "Đã di chuyển thành công: tokyo ravens\n",
      "Đã di chuyển thành công: tsuki no sango\n",
      "Đã di chuyển thành công: tsurugi no joou to rakuin no ko\n",
      "Đã di chuyển thành công: unlimited fafnir\n",
      "Đã di chuyển thành công: utsuro no hako to zero no maria\n",
      "Đã di chuyển thành công: washio sumi wa yuusha de aru\n",
      "Đã di chuyển thành công: yahari ore no seishun love come wa machigatteiru\n",
      "Đã di chuyển thành công: young god divine armaments\n",
      "Đã di chuyển thành công: zaregoto\n",
      "Đã di chuyển thành công: zero kara hajimeru mahou no sho\n",
      "Đã di chuyển thành công: zero no tsukaima\n",
      "Đã di chuyển thành công: zettai ni hatarakitakunai dungeon master ga damin wo musaboru made\n",
      "Đã di chuyển thành công: zombie no afureta sekai de ore dake ga osowarenai\n",
      "Hoàn tất! Đã di chuyển 80 thư mục.\n"
     ]
    },
    {
     "name": "stderr",
     "output_type": "stream",
     "text": [
      "\n"
     ]
    }
   ],
   "source": [
    "try:\n",
    "    # Đọc file CSV\n",
    "    df = pd.read_csv('D:/IE104.P11.CNVN/web_wibu_react/src/data_and_source/Novel_Data/hako_data.csv')\n",
    "\n",
    "    # Lấy danh sách các tựa đề từ CSV và chuyển về chữ thường\n",
    "    novel_titles = [title.lower().strip() for title in df['Tựa đề'].tolist()]\n",
    "\n",
    "    # Thư mục nguồn chứa các folder truyện\n",
    "    source_dir = 'D:/IE104.P11.CNVN/truyen'\n",
    "\n",
    "    # Thư mục đích để lưu các folder đã lọc\n",
    "    destination_dir = 'D:/IE104.P11.CNVN/truyen_filtered'\n",
    "\n",
    "    # Tạo thư mục đích nếu chưa tồn tại\n",
    "    if not os.path.exists(destination_dir):\n",
    "        os.makedirs(destination_dir)\n",
    "\n",
    "    # Lấy danh sách các folder cần chuyển (so sánh tên đã chuyển về chữ thường)\n",
    "    folders_to_move = [\n",
    "        folder for folder in os.listdir(source_dir) \n",
    "        if folder.lower().strip() in novel_titles\n",
    "    ]\n",
    "\n",
    "    print(f\"Tìm thấy {len(folders_to_move)} thư mục cần di chuyển:\")\n",
    "    for folder in folders_to_move[:5]:  # In 5 thư mục đầu tiên để kiểm tra\n",
    "        print(f\"- {folder}\")\n",
    "\n",
    "    confirm = input(\"Bạn có muốn tiếp tục di chuyển không? (y/n): \")\n",
    "    if confirm.lower() != 'y':\n",
    "        print(\"Đã hủy thao tác.\")\n",
    "        exit()\n",
    "\n",
    "    # Tạo thanh tiến trình\n",
    "    for folder in tqdm(folders_to_move, desc=\"Đang di chuyển thư mục\"):\n",
    "        source_path = os.path.join(source_dir, folder)\n",
    "        dest_path = os.path.join(destination_dir, folder)\n",
    "        \n",
    "        try:\n",
    "            if os.path.exists(source_path):\n",
    "                if os.path.exists(dest_path):\n",
    "                    print(f\"Thư mục {folder} đã tồn tại ở đích, đang xóa...\")\n",
    "                    shutil.rmtree(dest_path)\n",
    "                \n",
    "                shutil.move(source_path, dest_path)\n",
    "                print(f\"Đã di chuyển thành công: {folder}\")\n",
    "            else:\n",
    "                print(f\"Không tìm thấy thư mục nguồn: {folder}\")\n",
    "        \n",
    "        except Exception as e:\n",
    "            print(f\"Lỗi khi di chuyển {folder}: {str(e)}\")\n",
    "\n",
    "    print(f'Hoàn tất! Đã di chuyển {len(folders_to_move)} thư mục.')\n",
    "\n",
    "except Exception as e:\n",
    "    print(f\"Có lỗi xảy ra: {str(e)}\")"
   ]
  },
  {
   "cell_type": "code",
   "execution_count": 12,
   "metadata": {},
   "outputs": [
    {
     "name": "stderr",
     "output_type": "stream",
     "text": [
      "Đang kiểm tra các file: 100%|██████████| 129/129 [00:00<00:00, 128123.42it/s]\n"
     ]
    },
    {
     "name": "stdout",
     "output_type": "stream",
     "text": [
      "\n",
      "Tìm thấy 80 file cần di chuyển:\n",
      "- 1-seirei-tsukai-no-blade-dance.html\n",
      "- 10-utsuro-no-hako-to-zero-no-maria.html\n",
      "- 100-accel-world.html\n",
      "- 101-psycho-love-comedy.html\n",
      "- 102-a-simple-survey.html\n",
      "...và 75 file khác\n"
     ]
    },
    {
     "name": "stderr",
     "output_type": "stream",
     "text": [
      "Đang di chuyển file: 100%|██████████| 80/80 [00:00<00:00, 1719.14it/s]"
     ]
    },
    {
     "name": "stdout",
     "output_type": "stream",
     "text": [
      "Đã di chuyển: 1-seirei-tsukai-no-blade-dance.html\n",
      "Đã di chuyển: 10-utsuro-no-hako-to-zero-no-maria.html\n",
      "Đã di chuyển: 100-accel-world.html\n",
      "Đã di chuyển: 101-psycho-love-comedy.html\n",
      "Đã di chuyển: 102-a-simple-survey.html\n",
      "Đã di chuyển: 103-clockwork-planet.html\n",
      "Đã di chuyển: 104-all-you-need-is-kill.html\n",
      "Đã di chuyển: 108-yahari-ore-no-seishun-love-come-wa-machigatteiru.html\n",
      "Đã di chuyển: 116-oda-nobuna-no-yabou.html\n",
      "Đã di chuyển: 118-gundam-sentinel.html\n",
      "Đã di chuyển: 122-ore-no-imouto-ga-konna-ni-kawaii-wake-ga-nai.html\n",
      "Đã di chuyển: 131-tokyo-ravens.html\n",
      "Đã di chuyển: 133-gensou-sekai-no-alice-tale.html\n",
      "Đã di chuyển: 14-bungaku-shoujo.html\n",
      "Đã di chuyển: 140-high-school-dxd.html\n",
      "Đã di chuyển: 148-shinonome-yuuko.html\n",
      "Đã di chuyển: 15-dantalian-no-shoka.html\n",
      "Đã di chuyển: 150-madan-no-ou-to-vanadis.html\n",
      "Đã di chuyển: 153-saenai-kanojo-no-sodatekata.html\n",
      "Đã di chuyển: 16-zero-no-tsukaima.html\n",
      "Đã di chuyển: 161-zaregoto.html\n",
      "Đã di chuyển: 165-magika-no-kenshi-to-shoukan-maou.html\n",
      "Đã di chuyển: 17-infinite-stratos.html\n",
      "Đã di chuyển: 170-absolute-duo.html\n",
      "Đã di chuyển: 172-gakusen-toshi-asterisk.html\n",
      "Đã di chuyển: 175-sword-art-online-progressive.html\n",
      "Đã di chuyển: 176-aldnoah-zero-extra.html\n",
      "Đã di chuyển: 178-washio-sumi-wa-yuusha-de-aru.html\n",
      "Đã di chuyển: 18-hidan-no-aria.html\n",
      "Đã di chuyển: 184-kenja-no-deshi-wo-nanoru-kenja.html\n",
      "Đã di chuyển: 195-seikoku-no-dragonar.html\n",
      "Đã di chuyển: 20-baka-to-test-to-shoukanjuu.html\n",
      "Đã di chuyển: 201-mokushiroku-arisu.html\n",
      "Đã di chuyển: 202-tsurugi-no-joou-to-rakuin-no-ko.html\n",
      "Đã di chuyển: 205-harmony.html\n",
      "Đã di chuyển: 206-seiken-tsukai-no-world-break.html\n",
      "Đã di chuyển: 207-the-new-gate.html\n",
      "Đã di chuyển: 208-rokka-no-yuusha.html\n",
      "Đã di chuyển: 209-dungeon-ni-deai-wo-motomeru-no-wa-machigatteiru-darou-ka.html\n",
      "Đã di chuyển: 210-unlimited-fafnir.html\n",
      "Đã di chuyển: 212-legendary-moonlight-sculptor.html\n",
      "Đã di chuyển: 214-konjiki-no-word-master.html\n",
      "Đã di chuyển: 215-rakudai-kishi-no-eiyuutan.html\n",
      "Đã di chuyển: 216-arifureta-shokugyou-de-sekai-saikyou.html\n",
      "Đã di chuyển: 218-sekai-no-owari-no-encore.html\n",
      "Đã di chuyển: 221-strike-the-blood.html\n",
      "Đã di chuyển: 225-slayers.html\n",
      "Đã di chuyển: 226-hanbun-no-tsuki-ga-noboru-sora.html\n",
      "Đã di chuyển: 227-mimizuku-to-yoru-no-ou.html\n",
      "Đã di chuyển: 229-kagerou-project.html\n",
      "Đã di chuyển: 23-monogatari-series.html\n",
      "Đã di chuyển: 231-kokoro-connect.html\n",
      "Đã di chuyển: 232-taimadou-gakuen-35-shiken-shoutai.html\n",
      "Đã di chuyển: 234-haken-no-kouki-altina.html\n",
      "Đã di chuyển: 24-boku-wa-tomodachi-ga-sukunai.html\n",
      "Đã di chuyển: 26-heavy-object.html\n",
      "Đã di chuyển: 27-suzumiya-haruhi.html\n",
      "Đã di chuyển: 31-toaru-majutsu-no-index.html\n",
      "Đã di chuyển: 34-phenomeno.html\n",
      "Đã di chuyển: 36-tsuki-no-sango.html\n",
      "Đã di chuyển: 364-izure-shinwa-no-houkago-sensou.html\n",
      "Đã di chuyển: 368-katahane-no-riku.html\n",
      "Đã di chuyển: 387-zombie-no-afureta-sekai-de-ore-dake-ga-osowarenai.html\n",
      "Đã di chuyển: 408-zero-kara-hajimeru-mahou-no-sho.html\n",
      "Đã di chuyển: 418-jinsei-reset-button.html\n",
      "Đã di chuyển: 424-tensei-shitara-slime-datta-ken.html\n",
      "Đã di chuyển: 428-manga-wo-yomeru-ore-ga-sekai-saikyou.html\n",
      "Đã di chuyển: 441-kare-to-hitokui-no-nichijiou.html\n",
      "Đã di chuyển: 448-young-god-divine-armaments.html\n",
      "Đã di chuyển: 479-doudemo-ii-sekai-nante.html\n",
      "Đã di chuyển: 486-no-game-no-life.html\n",
      "Đã di chuyển: 497-the-new-gate.html\n",
      "Đã di chuyển: 60-date-a-live.html\n",
      "Đã di chuyển: 67-kikou-shoujo-wa-kizutsukanai.html\n",
      "Đã di chuyển: 68-kamisu-reina.html\n",
      "Đã di chuyển: 74-shuuen-no-shiori.html\n",
      "Đã di chuyển: 77-hyouketsu-kyoukai-no-eden.html\n",
      "Đã di chuyển: 8-sayonara-piano-sonata.html\n",
      "Đã di chuyển: 80-hyouka.html\n",
      "Đã di chuyển: 81-byousoku-5-centimeter.html\n",
      "\n",
      "Hoàn tất! Đã di chuyển 80 file.\n"
     ]
    },
    {
     "name": "stderr",
     "output_type": "stream",
     "text": [
      "\n"
     ]
    }
   ],
   "source": [
    "def normalize_filename(name):\n",
    "    # Bỏ đuôi file nếu có (như .html, .txt, etc.)\n",
    "    name = os.path.splitext(name)[0]\n",
    "    # Bỏ số ở đầu và dấu gạch ngang\n",
    "    name = re.sub(r'^\\d+[-_\\s]*', '', name)\n",
    "    # Bỏ dấu gạch ngang và khoảng trắng thừa\n",
    "    name = re.sub(r'[-_]+', ' ', name)\n",
    "    # Chuyển về chữ thường và cắt khoảng trắng đầu/cuối\n",
    "    name = name.lower().strip()\n",
    "    return name\n",
    "\n",
    "try:\n",
    "    # Đọc file CSV\n",
    "    df = pd.read_csv('D:/IE104.P11.CNVN/web_wibu_react/src/data_and_source/Novel_Data/hako_data.csv')\n",
    "\n",
    "    # Lấy danh sách các tựa đề từ CSV và chuyển về chữ thường\n",
    "    novel_titles = [title.lower().strip() for title in df['Tựa đề'].tolist()]\n",
    "\n",
    "    # Thư mục nguồn và đích\n",
    "    source_dir = 'D:/IE104.P11.CNVN/truyen'\n",
    "    destination_dir = 'D:/IE104.P11.CNVN/truyen_filtered'\n",
    "\n",
    "    # Tạo thư mục đích nếu chưa tồn tại\n",
    "    if not os.path.exists(destination_dir):\n",
    "        os.makedirs(destination_dir)\n",
    "\n",
    "    # Lấy danh sách các file .html trong thư mục gốc\n",
    "    files = [f for f in os.listdir(source_dir) if f.endswith('.html') and os.path.isfile(os.path.join(source_dir, f))]\n",
    "\n",
    "    # Lưu kết quả\n",
    "    files_to_move = []\n",
    "\n",
    "    # Kiểm tra từng file\n",
    "    for file in tqdm(files, desc=\"Đang kiểm tra các file\"):\n",
    "        normalized_name = normalize_filename(file)\n",
    "        if normalized_name in novel_titles:\n",
    "            files_to_move.append(file)\n",
    "\n",
    "    # Hiển thị danh sách file sẽ di chuyển\n",
    "    print(f\"\\nTìm thấy {len(files_to_move)} file cần di chuyển:\")\n",
    "    for file in files_to_move[:5]:  # Hiển thị 5 file đầu tiên\n",
    "        print(f\"- {file}\")\n",
    "    if len(files_to_move) > 5:\n",
    "        print(f\"...và {len(files_to_move) - 5} file khác\")\n",
    "\n",
    "    # Xác nhận từ người dùng\n",
    "    confirm = input(\"\\nBạn có muốn di chuyển các file này không? (y/n): \")\n",
    "    if confirm.lower() != 'y':\n",
    "        print(\"Đã hủy thao tác di chuyển.\")\n",
    "        exit()\n",
    "\n",
    "    # Di chuyển các file\n",
    "    for file in tqdm(files_to_move, desc=\"Đang di chuyển file\"):\n",
    "        source_path = os.path.join(source_dir, file)\n",
    "        dest_path = os.path.join(destination_dir, file)\n",
    "        \n",
    "        try:\n",
    "            # Kiểm tra xem file đã tồn tại ở thư mục đích chưa\n",
    "            if os.path.exists(dest_path):\n",
    "                print(f\"File {file} đã tồn tại ở thư mục đích, đang ghi đè...\")\n",
    "            \n",
    "            shutil.move(source_path, dest_path)\n",
    "            print(f\"Đã di chuyển: {file}\")\n",
    "        except Exception as e:\n",
    "            print(f\"Lỗi khi di chuyển {file}: {str(e)}\")\n",
    "\n",
    "    print(f'\\nHoàn tất! Đã di chuyển {len(files_to_move)} file.')\n",
    "\n",
    "except Exception as e:\n",
    "    print(f\"Có lỗi xảy ra: {str(e)}\")"
   ]
  },
  {
   "cell_type": "code",
   "execution_count": 13,
   "metadata": {},
   "outputs": [
    {
     "name": "stdout",
     "output_type": "stream",
     "text": [
      "Số dòng ban đầu: 80\n",
      "Số dòng sau khi lọc: 80\n",
      "Đã lưu kết quả vào: D:/IE104.P11.CNVN/web_wibu_react/src/data_and_source/Novel_Data/filtered_hako_data.csv\n"
     ]
    }
   ],
   "source": [
    "def normalize_name(name):\n",
    "    # Bỏ số ở đầu và dấu gạch ngang\n",
    "    name = re.sub(r'^\\d+[-]?', '', name)\n",
    "    # Thay thế dấu gạch ngang bằng khoảng trắng\n",
    "    name = name.replace('-', ' ')\n",
    "    # Chuyển về chữ thường và cắt khoảng trắng đầu/cuối\n",
    "    name = name.lower().strip()\n",
    "    return name\n",
    "\n",
    "try:\n",
    "    # Đọc file CSV\n",
    "    df = pd.read_csv('D:/IE104.P11.CNVN/web_wibu_react/src/data_and_source/Novel_Data/hako_data.csv')\n",
    "    \n",
    "    # Lấy danh sách các thư mục con từ truyen_filtered\n",
    "    folder_path = 'D:/IE104.P11.CNVN/truyen_filtered'\n",
    "    subdirs = [d for d in os.listdir(folder_path) \n",
    "              if os.path.isdir(os.path.join(folder_path, d))]\n",
    "    \n",
    "    # Chuẩn hóa tên thư mục để so sánh\n",
    "    normalized_dirs = [normalize_name(d) for d in subdirs]\n",
    "    \n",
    "    # Tạo một cột tạm thời chứa tên đã chuẩn hóa của Tựa đề\n",
    "    df['normalized_title'] = df['Tựa đề'].apply(normalize_name)\n",
    "    \n",
    "    # Lọc DataFrame chỉ giữ lại các dòng có tựa đề khớp với tên thư mục\n",
    "    filtered_df = df[df['normalized_title'].isin(normalized_dirs)]\n",
    "    \n",
    "    # Xóa cột tạm\n",
    "    filtered_df = filtered_df.drop('normalized_title', axis=1)\n",
    "    \n",
    "    # Lưu kết quả ra file mới\n",
    "    output_path = 'D:/IE104.P11.CNVN/web_wibu_react/src/data_and_source/Novel_Data/filtered_hako_data.csv'\n",
    "    filtered_df.to_csv(output_path, index=False)\n",
    "    \n",
    "    print(f\"Số dòng ban đầu: {len(df)}\")\n",
    "    print(f\"Số dòng sau khi lọc: {len(filtered_df)}\")\n",
    "    print(f\"Đã lưu kết quả vào: {output_path}\")\n",
    "\n",
    "except Exception as e:\n",
    "    print(f\"Có lỗi xảy ra: {str(e)}\")"
   ]
  },
  {
   "cell_type": "code",
   "execution_count": 14,
   "metadata": {},
   "outputs": [
    {
     "name": "stdout",
     "output_type": "stream",
     "text": [
      "Số mục ban đầu: 80\n",
      "Số mục sau khi lọc: 80\n",
      "Đã lưu kết quả vào: D:/IE104.P11.CNVN/web_wibu_react/src/data_and_source/Novel_Data/filtered_hako_data.json\n"
     ]
    }
   ],
   "source": [
    "import json\n",
    "def normalize_name(name):\n",
    "    # Bỏ số ở đầu và dấu gạch ngang\n",
    "    name = re.sub(r'^\\d+[-]?', '', name)\n",
    "    # Thay thế dấu gạch ngang bằng khoảng trắng\n",
    "    name = name.replace('-', ' ')\n",
    "    # Chuyển về chữ thường và cắt khoảng trắng đầu/cuối\n",
    "    name = name.lower().strip()\n",
    "    return name\n",
    "\n",
    "try:\n",
    "    # Đọc file JSON\n",
    "    with open('D:/IE104.P11.CNVN/web_wibu_react/src/data_and_source/Novel_Data/hako_data.json', 'r', encoding='utf-8') as f:\n",
    "        data = json.load(f)\n",
    "    \n",
    "    # Lấy danh sách các thư mục con từ truyen_filtered\n",
    "    folder_path = 'D:/IE104.P11.CNVN/truyen_filtered'\n",
    "    subdirs = [d for d in os.listdir(folder_path) \n",
    "              if os.path.isdir(os.path.join(folder_path, d))]\n",
    "    \n",
    "    # Chuẩn hóa tên thư mục để so sánh\n",
    "    normalized_dirs = [normalize_name(d) for d in subdirs]\n",
    "    \n",
    "    # Lọc dữ liệu JSON\n",
    "    filtered_data = [\n",
    "        item for item in data \n",
    "        if normalize_name(item['Tựa đề']) in normalized_dirs\n",
    "    ]\n",
    "    \n",
    "    # Lưu kết quả ra file mới\n",
    "    output_path = 'D:/IE104.P11.CNVN/web_wibu_react/src/data_and_source/Novel_Data/filtered_hako_data.json'\n",
    "    with open(output_path, 'w', encoding='utf-8') as f:\n",
    "        json.dump(filtered_data, f, ensure_ascii=False, indent=4)\n",
    "    \n",
    "    print(f\"Số mục ban đầu: {len(data)}\")\n",
    "    print(f\"Số mục sau khi lọc: {len(filtered_data)}\")\n",
    "    print(f\"Đã lưu kết quả vào: {output_path}\")\n",
    "\n",
    "except Exception as e:\n",
    "    print(f\"Có lỗi xảy ra: {str(e)}\")"
   ]
  },
  {
   "cell_type": "markdown",
   "metadata": {},
   "source": [
    "Xoá \"chương X\" của name"
   ]
  },
  {
   "cell_type": "code",
   "execution_count": 8,
   "metadata": {},
   "outputs": [],
   "source": [
    "import re\n",
    "import json\n",
    "\n",
    "def clean_chapter_name(name):\n",
    "    # Remove \"Chương x\" or \"chương x\" pattern where x is any number\n",
    "    cleaned = re.sub(r'[Cc]hương\\s+\\d+:\\s*', '', name)\n",
    "    cleaned = re.sub(r'[Cc]hương\\s+\\d+\\s*', '', cleaned)\n",
    "    cleaned = re.sub(r'[Cc]hapter\\s+\\d+:\\s*', '', cleaned)\n",
    "    cleaned = re.sub(r'[Cc]hap\\s+\\d+:\\s*', '', cleaned)\n",
    "    cleaned = re.sub(r'^:\\s*', '', cleaned)\n",
    "    return cleaned.strip()\n",
    "\n",
    "def process_novel_data(data):\n",
    "    for novel in data.values():\n",
    "        if 'chapters' in novel:\n",
    "            for chapter in novel['chapters'].values():\n",
    "                if 'name' in chapter:\n",
    "                    chapter['name'] = clean_chapter_name(chapter['name'])\n",
    "    return data\n",
    "\n",
    "# Read the JSON file\n",
    "with open('novels_chapters.json', 'r', encoding='utf-8') as f:\n",
    "    data = json.load(f)\n",
    "\n",
    "# Process the data\n",
    "processed_data = process_novel_data(data)\n",
    "\n",
    "# Save the processed data\n",
    "with open('novels_chapters.json', 'w', encoding='utf-8') as f:\n",
    "    json.dump(processed_data, f, ensure_ascii=False, indent=4)"
   ]
  },
  {
   "cell_type": "code",
   "execution_count": 11,
   "metadata": {},
   "outputs": [],
   "source": [
    "import re\n",
    "\n",
    "def extract_chapter_number(path):\n",
    "    # Tìm số chapter trong path\n",
    "    match = re.search(r'c(\\d+)-', path)\n",
    "    if match:\n",
    "        return int(match.group(1))\n",
    "    return 0\n",
    "\n",
    "def sort_chapters(novel_data):\n",
    "    for novel in novel_data.values():\n",
    "        if 'chapters' in novel:\n",
    "            # Tạo danh sách chapters mới đã sắp xếp\n",
    "            sorted_chapters = dict(sorted(\n",
    "                novel['chapters'].items(),\n",
    "                key=lambda x: extract_chapter_number(x[1]['path'])\n",
    "            ))\n",
    "            # Gán lại cho novel\n",
    "            novel['chapters'] = sorted_chapters\n",
    "    return novel_data\n",
    "\n",
    "# Đọc file JSON\n",
    "with open('novels_chapters.json', 'r', encoding='utf-8') as f:\n",
    "    data = json.load(f)\n",
    "\n",
    "# Sắp xếp chapters\n",
    "sorted_data = sort_chapters(data)\n",
    "\n",
    "# Lưu file JSON đã sắp xếp\n",
    "with open('novels_chapters.json', 'w', encoding='utf-8') as f:\n",
    "    json.dump(sorted_data, f, ensure_ascii=False, indent=4)"
   ]
  }
 ],
 "metadata": {
  "kernelspec": {
   "display_name": "Python 3",
   "language": "python",
   "name": "python3"
  },
  "language_info": {
   "codemirror_mode": {
    "name": "ipython",
    "version": 3
   },
   "file_extension": ".py",
   "mimetype": "text/x-python",
   "name": "python",
   "nbconvert_exporter": "python",
   "pygments_lexer": "ipython3",
   "version": "3.12.5"
  }
 },
 "nbformat": 4,
 "nbformat_minor": 2
}
