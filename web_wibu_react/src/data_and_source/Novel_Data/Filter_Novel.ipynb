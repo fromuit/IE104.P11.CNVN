{
 "cells": [
  {
   "cell_type": "code",
   "execution_count": 2,
   "metadata": {},
   "outputs": [],
   "source": [
    "import pandas as pd\n",
    "import os\n",
    "import shutil\n",
    "from tqdm import tqdm\n"
   ]
  },
  {
   "cell_type": "code",
   "execution_count": 3,
   "metadata": {},
   "outputs": [
    {
     "name": "stderr",
     "output_type": "stream",
     "text": [
      "Đang di chuyển thư mục: 0it [00:00, ?it/s]"
     ]
    },
    {
     "name": "stdout",
     "output_type": "stream",
     "text": [
      "Hoàn tất! Đã di chuyển 0 thư mục.\n"
     ]
    },
    {
     "name": "stderr",
     "output_type": "stream",
     "text": [
      "\n"
     ]
    }
   ],
   "source": [
    "# Đọc file CSV\n",
    "df = pd.read_csv('D:/IE104.P11.CNVN/web_wibu_react/src/data_and_source/Novel_Data/hako_data.csv')\n",
    "\n",
    "# Lấy danh sách các tựa đề từ CSV\n",
    "novel_titles = df['Tựa đề'].tolist()\n",
    "\n",
    "# Thư mục nguồn chứa các folder truyện\n",
    "source_dir = 'D:/IE104.P11.CNVN/truyen'\n",
    "\n",
    "# Thư mục đích để lưu các folder đã lọc\n",
    "destination_dir = 'D:/IE104.P11.CNVN/truyen_filtered'\n",
    "\n",
    "# Tạo thư mục đích nếu chưa tồn tại\n",
    "if not os.path.exists(destination_dir):\n",
    "    os.makedirs(destination_dir)\n",
    "\n",
    "# Lấy danh sách các folder cần chuyển\n",
    "folders_to_move = [folder for folder in os.listdir(source_dir) if folder in novel_titles]\n",
    "\n",
    "# Tạo thanh tiến trình\n",
    "for folder in tqdm(folders_to_move, desc=\"Đang di chuyển thư mục\"):\n",
    "    source_path = os.path.join(source_dir, folder)\n",
    "    dest_path = os.path.join(destination_dir, folder)\n",
    "    \n",
    "    # Di chuyển folder sang thư mục đích\n",
    "    shutil.move(source_path, dest_path)\n",
    "\n",
    "print(f'Hoàn tất! Đã di chuyển {len(folders_to_move)} thư mục.')"
   ]
  }
 ],
 "metadata": {
  "kernelspec": {
   "display_name": "Python 3",
   "language": "python",
   "name": "python3"
  },
  "language_info": {
   "codemirror_mode": {
    "name": "ipython",
    "version": 3
   },
   "file_extension": ".py",
   "mimetype": "text/x-python",
   "name": "python",
   "nbconvert_exporter": "python",
   "pygments_lexer": "ipython3",
   "version": "3.12.5"
  }
 },
 "nbformat": 4,
 "nbformat_minor": 2
}
