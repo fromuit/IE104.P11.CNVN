{
 "cells": [
  {
   "cell_type": "code",
   "execution_count": 6,
   "metadata": {},
   "outputs": [],
   "source": [
    "import os\n",
    "import json\n"
   ]
  },
  {
   "cell_type": "code",
   "execution_count": 7,
   "metadata": {},
   "outputs": [],
   "source": [
    "# Đường dẫn đến thư mục chứa các folder truyện\n",
    "input_dir = r\"D:\\IE104.P11.CNVN\\truyen_filtered\"\n",
    "\n",
    "# Đường dẫn đến thư mục output\n",
    "output_dir = r\"D:\\IE104.P11.CNVN\\web_wibu_react\\src\\data_and_source\\Novel_Data\""
   ]
  },
  {
   "cell_type": "code",
   "execution_count": 8,
   "metadata": {},
   "outputs": [],
   "source": [
    "# Dictionary để lưu thông tin truyện\n",
    "novels_data = {}\n",
    "# Biến đếm ID cho truyện\n",
    "novel_id = 1\n"
   ]
  },
  {
   "cell_type": "code",
   "execution_count": 9,
   "metadata": {},
   "outputs": [],
   "source": [
    "# Duyệt qua các folder con (các bộ truyện)\n",
    "for novel_folder in os.listdir(input_dir):\n",
    "    folder_path = os.path.join(input_dir, novel_folder)\n",
    "    \n",
    "    if os.path.isdir(folder_path):\n",
    "        # Lấy danh sách các file html và sắp xếp\n",
    "        chapters = [f for f in os.listdir(folder_path) if f.endswith('.html')]\n",
    "        chapters.sort()\n",
    "        \n",
    "        # Tạo thông tin cho truyện\n",
    "        novel_info = {\n",
    "            \"id\": novel_id,\n",
    "            \"name\": novel_folder,\n",
    "            \"chapters\": {}\n",
    "        }\n",
    "        \n",
    "        # Thêm thông tin cho từng chapter\n",
    "        for idx, chapter in enumerate(chapters, 1):\n",
    "            # Xử lý tên chapter: bỏ .html và thay thế dấu gạch ngang bằng khoảng trắng\n",
    "            chapter_name = chapter.replace('.html', '').replace('-', ' ')\n",
    "            chapter_path = os.path.join(novel_folder, chapter).replace('\\\\', '\\\\\\\\')\n",
    "            novel_info[\"chapters\"][str(idx)] = {\n",
    "                \"name\": chapter_name,\n",
    "                \"path\": chapter_path\n",
    "            }\n",
    "        \n",
    "        # Thêm vào dictionary chính\n",
    "        novels_data[novel_folder] = novel_info\n",
    "        novel_id += 1"
   ]
  },
  {
   "cell_type": "code",
   "execution_count": 10,
   "metadata": {},
   "outputs": [
    {
     "name": "stdout",
     "output_type": "stream",
     "text": [
      "Đã tạo file JSON thành công!\n"
     ]
    }
   ],
   "source": [
    "# Tạo file JSON\n",
    "output_file = os.path.join(output_dir, \"novels_chapters.json\")\n",
    "with open(output_file, 'w', encoding='utf-8') as f:\n",
    "    json.dump(novels_data, f, ensure_ascii=False, indent=4)\n",
    "print(\"Đã tạo file JSON thành công!\")"
   ]
  }
 ],
 "metadata": {
  "kernelspec": {
   "display_name": "Python 3",
   "language": "python",
   "name": "python3"
  },
  "language_info": {
   "codemirror_mode": {
    "name": "ipython",
    "version": 3
   },
   "file_extension": ".py",
   "mimetype": "text/x-python",
   "name": "python",
   "nbconvert_exporter": "python",
   "pygments_lexer": "ipython3",
   "version": "3.12.5"
  }
 },
 "nbformat": 4,
 "nbformat_minor": 2
}
