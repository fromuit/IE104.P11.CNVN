{
 "cells": [
  {
   "cell_type": "code",
   "execution_count": 1,
   "metadata": {},
   "outputs": [],
   "source": [
    "import os\n",
    "import json\n",
    "from bs4 import BeautifulSoup\n"
   ]
  },
  {
   "cell_type": "code",
   "execution_count": 2,
   "metadata": {},
   "outputs": [],
   "source": [
    "# Đường dẫn đến thư mục chứa các folder truyện\n",
    "input_dir = r\"D:\\IE104.P11.CNVN\\truyen_filtered\"\n",
    "\n",
    "# Đường dẫn đến thư mục output\n",
    "output_dir = r\"D:\\IE104.P11.CNVN\\web_wibu_react\\src\\data_and_source\\Novel_Data\""
   ]
  },
  {
   "cell_type": "code",
   "execution_count": 3,
   "metadata": {},
   "outputs": [],
   "source": [
    "# Dictionary để lưu thông tin truyện\n",
    "novels_data = {}\n",
    "# Biến đếm ID cho truyện\n",
    "novel_id = 1\n"
   ]
  },
  {
   "cell_type": "code",
   "execution_count": 8,
   "metadata": {},
   "outputs": [
    {
     "name": "stdout",
     "output_type": "stream",
     "text": [
      "Đã xử lý xong truyện: a simple survey\n",
      "Đã xử lý xong truyện: absolute duo\n",
      "Đã xử lý xong truyện: accel world\n",
      "Đã xử lý xong truyện: aldnoah zero extra\n",
      "Đã xử lý xong truyện: all you need is kill\n",
      "Đã xử lý xong truyện: arifureta shokugyou de sekai saikyou\n",
      "Đã xử lý xong truyện: baka to test to shoukanjuu\n",
      "Đã xử lý xong truyện: boku wa tomodachi ga sukunai\n",
      "Đã xử lý xong truyện: bungaku shoujo\n",
      "Đã xử lý xong truyện: byousoku 5 centimeter\n",
      "Đã xử lý xong truyện: clockwork planet\n",
      "Đã xử lý xong truyện: dantalian no shoka\n",
      "Đã xử lý xong truyện: date a live\n",
      "Đã xử lý xong truyện: doudemo ii sekai nante\n",
      "Đã xử lý xong truyện: dungeon ni deai wo motomeru no wa machigatteiru darou ka\n",
      "Đã xử lý xong truyện: gakusen toshi asterisk\n",
      "Đã xử lý xong truyện: gensou sekai no alice tale\n",
      "Đã xử lý xong truyện: gundam sentinel\n",
      "Đã xử lý xong truyện: haken no kouki altina\n",
      "Đã xử lý xong truyện: hanbun no tsuki ga noboru sora\n",
      "Đã xử lý xong truyện: harmony\n",
      "Đã xử lý xong truyện: heavy object\n",
      "Đã xử lý xong truyện: hidan no aria\n",
      "Đã xử lý xong truyện: high school dxd\n",
      "Đã xử lý xong truyện: hyouka\n",
      "Đã xử lý xong truyện: hyouketsu kyoukai no eden\n",
      "Đã xử lý xong truyện: infinite stratos\n",
      "Đã xử lý xong truyện: izure shinwa no houkago sensou\n",
      "Đã xử lý xong truyện: jinsei reset button\n",
      "Đã xử lý xong truyện: kagerou project\n",
      "Đã xử lý xong truyện: kamisu reina\n",
      "Đã xử lý xong truyện: kare to hitokui no nichijiou\n",
      "Đã xử lý xong truyện: katahane no riku\n",
      "Đã xử lý xong truyện: kenja no deshi wo nanoru kenja\n",
      "Đã xử lý xong truyện: kikou shoujo wa kizutsukanai\n",
      "Đã xử lý xong truyện: kokoro connect\n",
      "Đã xử lý xong truyện: konjiki no word master\n",
      "Đã xử lý xong truyện: legendary moonlight sculptor\n",
      "Đã xử lý xong truyện: madan no ou to vanadis\n",
      "Đã xử lý xong truyện: magika no kenshi to shoukan maou\n",
      "Đã xử lý xong truyện: manga wo yomeru ore ga sekai saikyou\n",
      "Đã xử lý xong truyện: mimizuku to yoru no ou\n",
      "Đã xử lý xong truyện: mokushiroku arisu\n",
      "Đã xử lý xong truyện: monogatari series\n",
      "Đã xử lý xong truyện: no game no life\n",
      "Đã xử lý xong truyện: oda nobuna no yabou\n",
      "Đã xử lý xong truyện: ore no imouto ga konna ni kawaii wake ga nai\n",
      "Đã xử lý xong truyện: phenomeno\n",
      "Đã xử lý xong truyện: psycho love comedy\n",
      "Đã xử lý xong truyện: rakudai kishi no eiyuutan\n",
      "Đã xử lý xong truyện: rokka no yuusha\n",
      "Đã xử lý xong truyện: saenai kanojo no sodatekata\n",
      "Đã xử lý xong truyện: sayonara piano sonata\n",
      "Đã xử lý xong truyện: seiken tsukai no world break\n",
      "Đã xử lý xong truyện: seikoku no dragonar\n",
      "Đã xử lý xong truyện: seirei tsukai no blade dance\n",
      "Đã xử lý xong truyện: sekai no owari no encore\n",
      "Đã xử lý xong truyện: shinonome yuuko\n",
      "Đã xử lý xong truyện: shuuen no shiori\n",
      "Đã xử lý xong truyện: slayers\n",
      "Đã xử lý xong truyện: strike the blood\n",
      "Đã xử lý xong truyện: suzumiya haruhi\n",
      "Đã xử lý xong truyện: sword art online progressive\n",
      "Đã xử lý xong truyện: taimadou gakuen 35 shiken shoutai\n",
      "Đã xử lý xong truyện: tensei shitara slime datta ken\n",
      "Đã xử lý xong truyện: the new gate\n",
      "Đã xử lý xong truyện: toaru majutsu no index\n",
      "Đã xử lý xong truyện: tokyo ravens\n",
      "Đã xử lý xong truyện: tsuki no sango\n",
      "Đã xử lý xong truyện: tsurugi no joou to rakuin no ko\n",
      "Đã xử lý xong truyện: unlimited fafnir\n",
      "Đã xử lý xong truyện: utsuro no hako to zero no maria\n",
      "Đã xử lý xong truyện: washio sumi wa yuusha de aru\n",
      "Đã xử lý xong truyện: yahari ore no seishun love come wa machigatteiru\n",
      "Đã xử lý xong truyện: young god divine armaments\n",
      "Đã xử lý xong truyện: zaregoto\n",
      "Đã xử lý xong truyện: zero kara hajimeru mahou no sho\n",
      "Đã xử lý xong truyện: zero no tsukaima\n",
      "Đã xử lý xong truyện: zettai ni hatarakitakunai dungeon master ga damin wo musaboru made\n",
      "Đã xử lý xong truyện: zombie no afureta sekai de ore dake ga osowarenai\n"
     ]
    }
   ],
   "source": [
    "# Duyệt qua các folder con (các bộ truyện)\n",
    "for novel_folder in os.listdir(input_dir):\n",
    "    folder_path = os.path.join(input_dir, novel_folder)\n",
    "    \n",
    "    if os.path.isdir(folder_path):\n",
    "        # Lấy danh sách các file html và sắp xếp\n",
    "        chapters = [f for f in os.listdir(folder_path) if f.endswith('.html')]\n",
    "        chapters.sort()\n",
    "        \n",
    "        # Tạo thông tin cho truyện\n",
    "        novel_info = {\n",
    "            \"id\": novel_id,\n",
    "            \"name\": novel_folder,\n",
    "            \"chapters\": {}\n",
    "        }\n",
    "        \n",
    "        # Thêm thông tin cho từng chapter\n",
    "        for idx, chapter in enumerate(chapters, 1):\n",
    "            # Đọc nội dung file HTML\n",
    "            chapter_path = os.path.join(folder_path, chapter)\n",
    "            try:\n",
    "                with open(chapter_path, 'r', encoding='utf-8') as f:\n",
    "                    soup = BeautifulSoup(f, 'html.parser')\n",
    "                    # Lấy nội dung từ thẻ title\n",
    "                    title_tag = soup.find('title')\n",
    "                    if title_tag:\n",
    "                        # Tách chuỗi bằng dấu - và lấy phần giữa\n",
    "                        title_parts = title_tag.text.strip().split(' - ')\n",
    "                        if len(title_parts) >= 3:\n",
    "                            chapter_name = title_parts[1].strip()\n",
    "                        else:\n",
    "                            chapter_name = title_tag.text.strip()\n",
    "                    else:\n",
    "                        chapter_name = chapter.replace('.html', '')\n",
    "            except Exception as e:\n",
    "                print(f\"Lỗi khi đọc file {chapter_path}: {str(e)}\")\n",
    "                chapter_name = chapter.replace('.html', '')\n",
    "            \n",
    "            # Tạo đường dẫn tương đối\n",
    "            relative_path = os.path.join(novel_folder, chapter)\n",
    "            \n",
    "            novel_info[\"chapters\"][str(idx)] = {\n",
    "                \"name\": chapter_name,\n",
    "                \"path\": relative_path\n",
    "            }\n",
    "        \n",
    "        # Thêm vào dictionary chính\n",
    "        novels_data[novel_folder] = novel_info\n",
    "        novel_id += 1\n",
    "        print(f\"Đã xử lý xong truyện: {novel_folder}\")"
   ]
  },
  {
   "cell_type": "code",
   "execution_count": 9,
   "metadata": {},
   "outputs": [
    {
     "name": "stdout",
     "output_type": "stream",
     "text": [
      "Đã tạo file JSON thành công!\n"
     ]
    }
   ],
   "source": [
    "# Tạo file JSON\n",
    "output_file = os.path.join(output_dir, \"novels_chapters.json\")\n",
    "with open(output_file, 'w', encoding='utf-8') as f:\n",
    "    json.dump(novels_data, f, ensure_ascii=False, indent=4)\n",
    "print(\"Đã tạo file JSON thành công!\")"
   ]
  }
 ],
 "metadata": {
  "kernelspec": {
   "display_name": "Python 3",
   "language": "python",
   "name": "python3"
  },
  "language_info": {
   "codemirror_mode": {
    "name": "ipython",
    "version": 3
   },
   "file_extension": ".py",
   "mimetype": "text/x-python",
   "name": "python",
   "nbconvert_exporter": "python",
   "pygments_lexer": "ipython3",
   "version": "3.12.5"
  }
 },
 "nbformat": 4,
 "nbformat_minor": 2
}
