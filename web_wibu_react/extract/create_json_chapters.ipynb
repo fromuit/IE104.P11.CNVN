{
 "cells": [
  {
   "cell_type": "code",
   "execution_count": 1,
   "metadata": {},
   "outputs": [],
   "source": [
    "import os\n",
    "import json\n"
   ]
  },
  {
   "cell_type": "code",
   "execution_count": 2,
   "metadata": {},
   "outputs": [],
   "source": [
    "# Đường dẫn đến thư mục chứa các folder truyện\n",
    "input_dir = r\"D:\\IE104.P11.CNVN\\truyen_filtered\"\n",
    "\n",
    "# Đường dẫn đến thư mục output\n",
    "output_dir = r\"D:\\IE104.P11.CNVN\\web_wibu_react\\src\\data_and_source\\Novel_Data\""
   ]
  },
  {
   "cell_type": "code",
   "execution_count": 3,
   "metadata": {},
   "outputs": [],
   "source": [
    "# Dictionary để lưu thông tin truyện\n",
    "novels_data = {}"
   ]
  },
  {
   "cell_type": "code",
   "execution_count": 4,
   "metadata": {},
   "outputs": [],
   "source": [
    "# Duyệt qua các folder con (các bộ truyện)\n",
    "for novel_folder in os.listdir(input_dir):\n",
    "    folder_path = os.path.join(input_dir, novel_folder)\n",
    "    \n",
    "    # Kiểm tra nếu là thư mục\n",
    "    if os.path.isdir(folder_path):\n",
    "        # Lấy danh sách các file html trong thư mục\n",
    "        chapters = [f for f in os.listdir(folder_path) if f.endswith('.html')]\n",
    "        # Sắp xếp các chapter theo thứ tự\n",
    "        chapters.sort()\n",
    "        \n",
    "        # Thêm vào dictionary\n",
    "        novels_data[novel_folder] = chapters"
   ]
  },
  {
   "cell_type": "code",
   "execution_count": 5,
   "metadata": {},
   "outputs": [
    {
     "name": "stdout",
     "output_type": "stream",
     "text": [
      "Đã tạo file JSON thành công!\n"
     ]
    }
   ],
   "source": [
    "# Tạo file JSON\n",
    "output_file = os.path.join(output_dir, \"novels_chapters.json\")\n",
    "with open(output_file, 'w', encoding='utf-8') as f:\n",
    "    json.dump(novels_data, f, ensure_ascii=False, indent=4)\n",
    "print(\"Đã tạo file JSON thành công!\")"
   ]
  }
 ],
 "metadata": {
  "kernelspec": {
   "display_name": "Python 3",
   "language": "python",
   "name": "python3"
  },
  "language_info": {
   "codemirror_mode": {
    "name": "ipython",
    "version": 3
   },
   "file_extension": ".py",
   "mimetype": "text/x-python",
   "name": "python",
   "nbconvert_exporter": "python",
   "pygments_lexer": "ipython3",
   "version": "3.12.5"
  }
 },
 "nbformat": 4,
 "nbformat_minor": 2
}
