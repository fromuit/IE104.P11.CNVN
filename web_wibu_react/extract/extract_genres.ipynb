{
 "cells": [
  {
   "cell_type": "code",
   "execution_count": 1,
   "metadata": {},
   "outputs": [],
   "source": [
    "import pandas as pd\n",
    "from pathlib import Path\n",
    "import json\n"
   ]
  },
  {
   "cell_type": "code",
   "execution_count": 2,
   "metadata": {},
   "outputs": [],
   "source": [
    "BASE_DIR = Path.cwd().parent.parent\n",
    "dataset_dir = BASE_DIR / \"web_wibu_react/src/data_and_source/truyen_data/hako_data.json\""
   ]
  },
  {
   "cell_type": "code",
   "execution_count": 3,
   "metadata": {},
   "outputs": [],
   "source": [
    "df = pd.read_json(dataset_dir)"
   ]
  },
  {
   "cell_type": "code",
   "execution_count": 4,
   "metadata": {},
   "outputs": [
    {
     "name": "stdout",
     "output_type": "stream",
     "text": [
      "\n",
      "Tổng số thể loại: 19\n",
      "\n",
      "Danh sách thể loại:\n",
      "- \n",
      "- Action\n",
      "- Adventure\n",
      "- Comedy\n",
      "- Drama\n",
      "- Ecchi\n",
      "- Fantasy\n",
      "- Harem\n",
      "- Horror\n",
      "- Incest\n",
      "- Mecha\n",
      "- Mystery\n",
      "- Romance\n",
      "- School Life\n",
      "- Science Fiction\n",
      "- Seinen\n",
      "- Slice of Life\n",
      "- Super Power\n",
      "- Supernatural\n",
      "\n",
      "Thống kê số lượng truyện theo thể loại:\n",
      "                 count\n",
      "Romance             21\n",
      "Comedy              16\n",
      "School Life         14\n",
      "Drama               14\n",
      "Action              12\n",
      "Fantasy             10\n",
      "Harem               10\n",
      "Supernatural         8\n",
      "                     7\n",
      "Mystery              6\n",
      "Adventure            5\n",
      "Science Fiction      5\n",
      "Ecchi                4\n",
      "Horror               2\n",
      "Mecha                2\n",
      "Super Power          2\n",
      "Seinen               1\n",
      "Slice of Life        1\n",
      "Incest               1\n"
     ]
    }
   ],
   "source": [
    "\n",
    "# Lọc ra tất cả các thể loại độc nhất\n",
    "unique_genres = set()\n",
    "for genres_list in df[\"Thể loại\"]:\n",
    "    unique_genres.update(genres_list)\n",
    "\n",
    "# Chuyển set thành list và sắp xếp theo alphabet\n",
    "unique_genres_sorted = sorted(list(unique_genres))\n",
    "\n",
    "print(f\"\\nTổng số thể loại: {len(unique_genres_sorted)}\")\n",
    "print(\"\\nDanh sách thể loại:\")\n",
    "for genre in unique_genres_sorted:\n",
    "    print(f\"- {genre}\")\n",
    "\n",
    "# Tạo DataFrame mới chứa thống kê số lượng truyện theo thể loại\n",
    "genre_counts = {}\n",
    "for genre in unique_genres_sorted:\n",
    "    count = sum(1 for genres_list in df[\"Thể loại\"] if genre in genres_list)\n",
    "    genre_counts[genre] = count\n",
    "\n",
    "# Chuyển dict thành DataFrame và sắp xếp theo số lượng giảm dần\n",
    "genre_stats = pd.DataFrame.from_dict(genre_counts, orient='index', columns=['count'])\n",
    "genre_stats = genre_stats.sort_values('count', ascending=False)\n",
    "\n",
    "print(\"\\nThống kê số lượng truyện theo thể loại:\")\n",
    "print(genre_stats)"
   ]
  },
  {
   "cell_type": "markdown",
   "metadata": {},
   "source": [
    "### Điền vào file genres.json"
   ]
  },
  {
   "cell_type": "code",
   "execution_count": 5,
   "metadata": {},
   "outputs": [],
   "source": [
    "# Dictionary ánh xạ thể loại Anh-Việt\n",
    "genre_names_translations = {\n",
    "    \"Action\": \"Hành Động\",\n",
    "    \"Adventure\": \"Phiêu Lưu\",\n",
    "    \"Comedy\": \"Hài Hước\",\n",
    "    \"Drama\": \"Drama\",\n",
    "    \"Ecchi\": \"Ecchi\",\n",
    "    \"Fantasy\": \"Giả Tưởng\",\n",
    "    \"Harem\": \"Harem\",\n",
    "    \"Horror\": \"Kinh Dị\",\n",
    "    \"Incest\": \"Loạn Luân\",\n",
    "    \"Mecha\": \"Mecha\",\n",
    "    \"Mystery\": \"Bí Ẩn\",\n",
    "    \"Romance\": \"Lãng Mạn\",\n",
    "    \"School Life\": \"Học Đường\",\n",
    "    \"Science Fiction\": \"Khoa Học Viễn Tưởng\",\n",
    "    \"Seinen\": \"Seinen\",\n",
    "    \"Slice of Life\": \"Đời Thường\",\n",
    "    \"Super Power\": \"Siêu Năng Lực\",\n",
    "    \"Supernatural\": \"Siêu Nhiên\",\n",
    "    \"Martial Arts\": \"Võ Thuật\",\n",
    "    \"Historical\": \"Lịch Sử\",\n",
    "    \"Military\": \"Quân Sự\",\n",
    "    \"Psychological\": \"Tâm Lý\",\n",
    "    \"Sports\": \"Thể Thao\",\n",
    "    \"Tragedy\": \"Bi Kịch\",\n",
    "    \"Mature\": \"Trưởng Thành\",\n",
    "    \"Gender Bender\": \"Chuyển Giới\",\n",
    "    \"Shounen\": \"Shounen\",\n",
    "    \"Shoujo\": \"Shoujo\",\n",
    "    \"Josei\": \"Josei\"\n",
    "}\n",
    "\n",
    "genre_slugs_translations = {\n",
    "    \"Action\": \"hanh-dong\",\n",
    "    \"Adventure\": \"phieu-luu\",\n",
    "    \"Comedy\": \"hai-huoc\",\n",
    "    \"Drama\": \"drama\",\n",
    "    \"Ecchi\": \"ecchi\",\n",
    "    \"Fantasy\": \"gia-tuong\",\n",
    "    \"Harem\": \"harem\",\n",
    "    \"Horror\": \"kinh-di\",\n",
    "    \"Incest\": \"loan-luan\",\n",
    "    \"Mecha\": \"mecha\",\n",
    "    \"Mystery\": \"bi-an\",\n",
    "    \"Romance\": \"lang-man\",\n",
    "    \"School Life\": \"hoc-duong\",\n",
    "    \"Science Fiction\": \"khoa-hoc-vien-tuong\",\n",
    "    \"Seinen\": \"seinen\",\n",
    "    \"Slice of Life\": \"doi-thuong\",\n",
    "    \"Super Power\": \"sieu-nang-luc\",\n",
    "    \"Supernatural\": \"sieu-nhien\",\n",
    "    \"Martial Arts\": \"vo-thuat\",\n",
    "    \"Historical\": \"lich-su\",\n",
    "    \"Military\": \"quan-su\",\n",
    "    \"Psychological\": \"tam-ly\",\n",
    "    \"Sports\": \"the-thao\",\n",
    "    \"Tragedy\": \"bi-kich\",\n",
    "    \"Mature\": \"truong-thanh\",\n",
    "    \"Gender Bender\": \"chuyen-gioi\",\n",
    "    \"Shounen\": \"shounen\",\n",
    "    \"Shoujo\": \"shoujo\",\n",
    "    \"Josei\": \"josei\"\n",
    "}\n"
   ]
  },
  {
   "cell_type": "code",
   "execution_count": 6,
   "metadata": {},
   "outputs": [],
   "source": [
    "formatted_genres = []\n",
    "idx = 1\n",
    "\n",
    "for genre_name in unique_genres_sorted:\n",
    "    if not genre_name or genre_name.strip() == \"\":\n",
    "        continue\n",
    "        \n",
    "    viet_name = genre_names_translations.get(genre_name, genre_name)\n",
    "    # Sử dụng slug từ dictionary, nếu không có thì tạo slug tự động\n",
    "    slug = genre_slugs_translations.get(genre_name, genre_name.lower().replace(\" \", \"-\"))\n",
    "    \n",
    "    genre_obj = {\n",
    "        \"id\": idx,\n",
    "        \"name\": viet_name,\n",
    "        \"slug\": slug\n",
    "    }\n",
    "    formatted_genres.append(genre_obj)\n",
    "    idx += 1"
   ]
  },
  {
   "cell_type": "code",
   "execution_count": 7,
   "metadata": {},
   "outputs": [],
   "source": [
    "# Sắp xếp lại danh sách theo tên tiếng Việt\n",
    "import locale\n",
    "locale.setlocale(locale.LC_COLLATE, 'vi_VN.UTF-8')\n",
    "\n",
    "# Sắp xếp lại danh sách theo tên tiếng Việt sử dụng locale\n",
    "formatted_genres.sort(key=lambda x: locale.strxfrm(x[\"name\"]))\n",
    "\n",
    "# Cập nhật lại id sau khi sắp xếp\n",
    "for idx, genre in enumerate(formatted_genres, 1):\n",
    "    genre[\"id\"] = idx"
   ]
  },
  {
   "cell_type": "code",
   "execution_count": 8,
   "metadata": {},
   "outputs": [
    {
     "name": "stdout",
     "output_type": "stream",
     "text": [
      "Đã lưu 18 thể loại vào file genres.json\n"
     ]
    }
   ],
   "source": [
    "# Tạo dictionary với cấu trúc cuối cùng\n",
    "genres_data = {\n",
    "    \"genres\": formatted_genres\n",
    "}\n",
    "\n",
    "# Đường dẫn đến file genres.json\n",
    "genres_dir = BASE_DIR / \"web_wibu_react/src/data_and_source/truyen_data\"\n",
    "genres_file_path = Path(genres_dir) / \"genres.json\"\n",
    "\n",
    "# Lưu vào file với định dạng UTF-8 và indent\n",
    "with open(genres_file_path, \"w\", encoding=\"utf-8\") as f:\n",
    "    json.dump(genres_data, f, ensure_ascii=False, indent=2)\n",
    "\n",
    "print(f\"Đã lưu {len(formatted_genres)} thể loại vào file genres.json\")"
   ]
  }
 ],
 "metadata": {
  "kernelspec": {
   "display_name": "Python 3",
   "language": "python",
   "name": "python3"
  },
  "language_info": {
   "codemirror_mode": {
    "name": "ipython",
    "version": 3
   },
   "file_extension": ".py",
   "mimetype": "text/x-python",
   "name": "python",
   "nbconvert_exporter": "python",
   "pygments_lexer": "ipython3",
   "version": "3.12.6"
  }
 },
 "nbformat": 4,
 "nbformat_minor": 2
}
