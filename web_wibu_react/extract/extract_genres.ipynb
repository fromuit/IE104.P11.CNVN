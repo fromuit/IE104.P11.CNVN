{
 "cells": [
  {
   "cell_type": "code",
   "execution_count": 1,
   "metadata": {},
   "outputs": [],
   "source": [
    "import pandas as pd"
   ]
  },
  {
   "cell_type": "code",
   "execution_count": 2,
   "metadata": {},
   "outputs": [],
   "source": [
    "df = pd.read_json('hako_data.json')"
   ]
  },
  {
   "cell_type": "code",
   "execution_count": 3,
   "metadata": {},
   "outputs": [
    {
     "data": {
      "text/html": [
       "<div>\n",
       "<style scoped>\n",
       "    .dataframe tbody tr th:only-of-type {\n",
       "        vertical-align: middle;\n",
       "    }\n",
       "\n",
       "    .dataframe tbody tr th {\n",
       "        vertical-align: top;\n",
       "    }\n",
       "\n",
       "    .dataframe thead th {\n",
       "        text-align: right;\n",
       "    }\n",
       "</style>\n",
       "<table border=\"1\" class=\"dataframe\">\n",
       "  <thead>\n",
       "    <tr style=\"text-align: right;\">\n",
       "      <th></th>\n",
       "      <th>ID</th>\n",
       "      <th>Tựa đề</th>\n",
       "      <th>Link truyện</th>\n",
       "      <th>Phương thức dịch</th>\n",
       "      <th>Thể loại</th>\n",
       "      <th>Manga</th>\n",
       "      <th>Anime</th>\n",
       "      <th>CD</th>\n",
       "      <th>Ngôn ngữ gốc</th>\n",
       "      <th>Link ảnh</th>\n",
       "      <th>...</th>\n",
       "      <th>Người tham gia</th>\n",
       "      <th>Link người tham gia</th>\n",
       "      <th>Số tập</th>\n",
       "      <th>Số chương</th>\n",
       "      <th>Ngày bắt đầu</th>\n",
       "      <th>Tháng bắt đầu</th>\n",
       "      <th>Năm bắt đầu</th>\n",
       "      <th>Ngày cập nhật cuối</th>\n",
       "      <th>Tháng cập nhật cuối</th>\n",
       "      <th>Năm cập nhật cuối</th>\n",
       "    </tr>\n",
       "  </thead>\n",
       "  <tbody>\n",
       "    <tr>\n",
       "      <th>0</th>\n",
       "      <td>8962</td>\n",
       "      <td>Nguyên tắc của một Triết gia, được viết bởi Kẻ...</td>\n",
       "      <td>https://ln.hako.vn/truyen/8962-nguyen-tac-cua-...</td>\n",
       "      <td>Truyện dịch</td>\n",
       "      <td>[Adventure, Action, Comedy, Fantasy, Magic, Ro...</td>\n",
       "      <td>Yes</td>\n",
       "      <td>Not sure</td>\n",
       "      <td>Not sure</td>\n",
       "      <td>japanese</td>\n",
       "      <td>https://i.docln.net/lightnovel/covers/s8962-89...</td>\n",
       "      <td>...</td>\n",
       "      <td>NOT FOUND</td>\n",
       "      <td>NOT FOUND</td>\n",
       "      <td>1</td>\n",
       "      <td>8</td>\n",
       "      <td>5</td>\n",
       "      <td>5</td>\n",
       "      <td>2021</td>\n",
       "      <td>11</td>\n",
       "      <td>3</td>\n",
       "      <td>2022</td>\n",
       "    </tr>\n",
       "  </tbody>\n",
       "</table>\n",
       "<p>1 rows × 37 columns</p>\n",
       "</div>"
      ],
      "text/plain": [
       "     ID                                             Tựa đề  \\\n",
       "0  8962  Nguyên tắc của một Triết gia, được viết bởi Kẻ...   \n",
       "\n",
       "                                         Link truyện Phương thức dịch  \\\n",
       "0  https://ln.hako.vn/truyen/8962-nguyen-tac-cua-...      Truyện dịch   \n",
       "\n",
       "                                            Thể loại Manga     Anime  \\\n",
       "0  [Adventure, Action, Comedy, Fantasy, Magic, Ro...   Yes  Not sure   \n",
       "\n",
       "         CD Ngôn ngữ gốc                                           Link ảnh  \\\n",
       "0  Not sure     japanese  https://i.docln.net/lightnovel/covers/s8962-89...   \n",
       "\n",
       "   ... Người tham gia Link người tham gia Số tập Số chương  Ngày bắt đầu  \\\n",
       "0  ...      NOT FOUND           NOT FOUND      1         8             5   \n",
       "\n",
       "   Tháng bắt đầu  Năm bắt đầu  Ngày cập nhật cuối  Tháng cập nhật cuối  \\\n",
       "0              5         2021                  11                    3   \n",
       "\n",
       "  Năm cập nhật cuối  \n",
       "0              2022  \n",
       "\n",
       "[1 rows x 37 columns]"
      ]
     },
     "execution_count": 3,
     "metadata": {},
     "output_type": "execute_result"
    }
   ],
   "source": [
    "df"
   ]
  }
 ],
 "metadata": {
  "kernelspec": {
   "display_name": "Python 3",
   "language": "python",
   "name": "python3"
  },
  "language_info": {
   "codemirror_mode": {
    "name": "ipython",
    "version": 3
   },
   "file_extension": ".py",
   "mimetype": "text/x-python",
   "name": "python",
   "nbconvert_exporter": "python",
   "pygments_lexer": "ipython3",
   "version": "3.12.6"
  }
 },
 "nbformat": 4,
 "nbformat_minor": 2
}
