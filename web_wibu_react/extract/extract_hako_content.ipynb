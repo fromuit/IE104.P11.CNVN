{
 "cells": [
  {
   "cell_type": "code",
   "execution_count": 3,
   "metadata": {},
   "outputs": [],
   "source": [
    "# Setup các kiểu\n",
    "import pandas as pd\n",
    "import os\n",
    "import re\n",
    "from bs4 import BeautifulSoup\n",
    "from docx import Document  # Thêm thư viện này"
   ]
  },
  {
   "cell_type": "code",
   "execution_count": 4,
   "metadata": {},
   "outputs": [],
   "source": [
    "\n",
    "def save_to_word(text, filename):\n",
    "    # Tạo document mới\n",
    "    doc = Document()\n",
    "    \n",
    "    # Thêm nội dung văn bản\n",
    "    doc.add_paragraph(text)\n",
    "    \n",
    "    # Lưu file\n",
    "    doc.save(filename)\n",
    "\n",
    "# Ví dụ sử dụng:\n",
    "def extract_and_save(html_content):\n",
    "    # Parse HTML content\n",
    "    soup = BeautifulSoup(html_content, 'html.parser')\n",
    "    \n",
    "    # Find the chapter content div\n",
    "    content_div = soup.find('div', {'id': 'chapter-content', 'class': 'long-text no-select text-justify'})\n",
    "    \n",
    "    if content_div:\n",
    "        # Extract all paragraphs and join them with newlines\n",
    "        paragraphs = content_div.find_all('p')\n",
    "        content = '\\n'.join(p.get_text() for p in paragraphs)\n",
    "        \n",
    "        # Save to Word document\n",
    "        save_to_word(content, 'test.docx')\n",
    "        return True\n",
    "    return False"
   ]
  },
  {
   "cell_type": "code",
   "execution_count": 5,
   "metadata": {},
   "outputs": [
    {
     "name": "stdout",
     "output_type": "stream",
     "text": [
      "Content extracted and saved successfully\n"
     ]
    }
   ],
   "source": [
    "with open('c143976-chuong-01-prologue.html', 'r', encoding='utf-8') as f:\n",
    "    html_content = f.read()\n",
    "    success = extract_and_save(html_content)\n",
    "    if success:\n",
    "        print(\"Content extracted and saved successfully\")\n",
    "    else:\n",
    "        print(\"Failed to find content div\")"
   ]
  }
 ],
 "metadata": {
  "kernelspec": {
   "display_name": "Python 3",
   "language": "python",
   "name": "python3"
  },
  "language_info": {
   "codemirror_mode": {
    "name": "ipython",
    "version": 3
   },
   "file_extension": ".py",
   "mimetype": "text/x-python",
   "name": "python",
   "nbconvert_exporter": "python",
   "pygments_lexer": "ipython3",
   "version": "3.12.1"
  }
 },
 "nbformat": 4,
 "nbformat_minor": 2
}
