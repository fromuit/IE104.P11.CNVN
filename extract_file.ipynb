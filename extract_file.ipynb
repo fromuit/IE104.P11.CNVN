{
 "cells": [
  {
   "cell_type": "code",
   "execution_count": 1,
   "metadata": {},
   "outputs": [
    {
     "ename": "FileNotFoundError",
     "evalue": "[WinError 3] The system cannot find the path specified: 'truyen_filtered'",
     "output_type": "error",
     "traceback": [
      "\u001b[1;31m---------------------------------------------------------------------------\u001b[0m",
      "\u001b[1;31mFileNotFoundError\u001b[0m                         Traceback (most recent call last)",
      "Cell \u001b[1;32mIn[1], line 70\u001b[0m\n\u001b[0;32m     68\u001b[0m input_directory \u001b[38;5;241m=\u001b[39m \u001b[38;5;124m\"\u001b[39m\u001b[38;5;124mtruyen_filtered\u001b[39m\u001b[38;5;124m\"\u001b[39m  \u001b[38;5;66;03m# Thư mục gốc chứa các truyện\u001b[39;00m\n\u001b[0;32m     69\u001b[0m output_directory \u001b[38;5;241m=\u001b[39m \u001b[38;5;124m\"\u001b[39m\u001b[38;5;124mTruyen_done\u001b[39m\u001b[38;5;124m\"\u001b[39m  \u001b[38;5;66;03m# Thư mục đích để lưu kết quả\u001b[39;00m\n\u001b[1;32m---> 70\u001b[0m \u001b[43mprocess_directory\u001b[49m\u001b[43m(\u001b[49m\u001b[43minput_directory\u001b[49m\u001b[43m,\u001b[49m\u001b[43m \u001b[49m\u001b[43moutput_directory\u001b[49m\u001b[43m)\u001b[49m\n",
      "Cell \u001b[1;32mIn[1], line 41\u001b[0m, in \u001b[0;36mprocess_directory\u001b[1;34m(input_dir, output_dir)\u001b[0m\n\u001b[0;32m     38\u001b[0m     os\u001b[38;5;241m.\u001b[39mmakedirs(output_dir)\n\u001b[0;32m     40\u001b[0m \u001b[38;5;66;03m# Duyệt qua tất cả các mục trong thư mục input\u001b[39;00m\n\u001b[1;32m---> 41\u001b[0m \u001b[38;5;28;01mfor\u001b[39;00m item \u001b[38;5;129;01min\u001b[39;00m \u001b[43mos\u001b[49m\u001b[38;5;241;43m.\u001b[39;49m\u001b[43mlistdir\u001b[49m\u001b[43m(\u001b[49m\u001b[43minput_dir\u001b[49m\u001b[43m)\u001b[49m:\n\u001b[0;32m     42\u001b[0m     input_path \u001b[38;5;241m=\u001b[39m os\u001b[38;5;241m.\u001b[39mpath\u001b[38;5;241m.\u001b[39mjoin(input_dir, item)\n\u001b[0;32m     43\u001b[0m     output_path \u001b[38;5;241m=\u001b[39m os\u001b[38;5;241m.\u001b[39mpath\u001b[38;5;241m.\u001b[39mjoin(output_dir, item)\n",
      "\u001b[1;31mFileNotFoundError\u001b[0m: [WinError 3] The system cannot find the path specified: 'truyen_filtered'"
     ]
    }
   ],
   "source": [
    "import os\n",
    "from bs4 import BeautifulSoup\n",
    "\n",
    "def extract_specific_content(html_content):\n",
    "    # Parse HTML\n",
    "    soup = BeautifulSoup(html_content, 'html.parser')\n",
    "    \n",
    "    # Tạo soup mới để chứa kết quả\n",
    "    new_soup = BeautifulSoup('', 'html.parser')\n",
    "    \n",
    "    # Lấy 2 dòng đầu tiên từ DOCTYPE và html tag\n",
    "    doctype = '<!DOCTYPE html>\\n'\n",
    "    html_tag = '<html lang=\"vi\">\\n'\n",
    "    \n",
    "    # Lấy thẻ meta charset từ head\n",
    "    meta_charset = soup.find('meta', attrs={'charset': 'utf-8'})\n",
    "    \n",
    "    # Lấy các div cụ thể từ body\n",
    "    title_top = soup.find('div', class_='title-top')\n",
    "    chapter_content = soup.find('div', id='chapter-content', class_='long-text no-select')\n",
    "    \n",
    "    # Tạo cấu trúc HTML mới\n",
    "    result = f\"\"\"{doctype}{html_tag}\n",
    "<head>\n",
    "    {str(meta_charset) if meta_charset else ''}\n",
    "</head>\n",
    "<body>\n",
    "    {str(title_top) if title_top else ''}\n",
    "    {str(chapter_content) if chapter_content else ''}\n",
    "</body>\n",
    "</html>\"\"\"\n",
    "    \n",
    "    return result\n",
    "\n",
    "def process_directory(input_dir, output_dir):\n",
    "    # Đảm bảo thư mục output tồn tại\n",
    "    if not os.path.exists(output_dir):\n",
    "        os.makedirs(output_dir)\n",
    "    \n",
    "    # Duyệt qua tất cả các mục trong thư mục input\n",
    "    for item in os.listdir(input_dir):\n",
    "        input_path = os.path.join(input_dir, item)\n",
    "        output_path = os.path.join(output_dir, item)\n",
    "        \n",
    "        # Nếu là thư mục, tạo thư mục tương ứng trong output và xử lý đệ quy\n",
    "        if os.path.isdir(input_path):\n",
    "            if not os.path.exists(output_path):\n",
    "                os.makedirs(output_path)\n",
    "            process_directory(input_path, output_path)\n",
    "            print(f\"Đã xử lý thư mục: {item}\")\n",
    "            \n",
    "        # Nếu là file HTML, xử lý file\n",
    "        elif item.endswith('.html'):\n",
    "            # Đọc file HTML\n",
    "            with open(input_path, 'r', encoding='utf-8') as f:\n",
    "                html_content = f.read()\n",
    "            \n",
    "            # Xử lý và lấy nội dung cần thiết\n",
    "            extracted_content = extract_specific_content(html_content)\n",
    "            \n",
    "            # Lưu kết quả vào file mới\n",
    "            with open(output_path, 'w', encoding='utf-8') as f:\n",
    "                f.write(extracted_content)\n",
    "            \n",
    "            print(f\"Đã xử lý file: {item}\")\n",
    "\n",
    "# Sử dụng hàm với thư mục input và output\n",
    "input_directory = \"truyen_filtered\"  # Thư mục gốc chứa các truyện\n",
    "output_directory = \"Truyen_done\"  # Thư mục đích để lưu kết quả\n",
    "process_directory(input_directory, output_directory)"
   ]
  }
 ],
 "metadata": {
  "kernelspec": {
   "display_name": "Python 3",
   "language": "python",
   "name": "python3"
  },
  "language_info": {
   "codemirror_mode": {
    "name": "ipython",
    "version": 3
   },
   "file_extension": ".py",
   "mimetype": "text/x-python",
   "name": "python",
   "nbconvert_exporter": "python",
   "pygments_lexer": "ipython3",
   "version": "3.12.6"
  }
 },
 "nbformat": 4,
 "nbformat_minor": 2
}
