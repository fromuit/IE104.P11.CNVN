{
 "cells": [
  {
   "cell_type": "code",
   "execution_count": 1,
   "metadata": {},
   "outputs": [
    {
     "name": "stdout",
     "output_type": "stream",
     "text": [
      "Requirement already satisfied: beautifulsoup4 in c:\\users\\tris\\appdata\\local\\programs\\python\\python312\\lib\\site-packages (4.12.2)\n",
      "Requirement already satisfied: pandas in c:\\users\\tris\\appdata\\local\\programs\\python\\python312\\lib\\site-packages (2.1.3)\n",
      "Requirement already satisfied: lxml in c:\\users\\tris\\appdata\\local\\programs\\python\\python312\\lib\\site-packages (5.3.0)\n",
      "Requirement already satisfied: soupsieve>1.2 in c:\\users\\tris\\appdata\\local\\programs\\python\\python312\\lib\\site-packages (from beautifulsoup4) (2.5)\n",
      "Requirement already satisfied: numpy<2,>=1.26.0 in c:\\users\\tris\\appdata\\local\\programs\\python\\python312\\lib\\site-packages (from pandas) (1.26.2)\n",
      "Requirement already satisfied: python-dateutil>=2.8.2 in c:\\users\\tris\\appdata\\roaming\\python\\python312\\site-packages (from pandas) (2.8.2)\n",
      "Requirement already satisfied: pytz>=2020.1 in c:\\users\\tris\\appdata\\local\\programs\\python\\python312\\lib\\site-packages (from pandas) (2023.3.post1)\n",
      "Requirement already satisfied: tzdata>=2022.1 in c:\\users\\tris\\appdata\\local\\programs\\python\\python312\\lib\\site-packages (from pandas) (2023.3)\n",
      "Requirement already satisfied: six>=1.5 in c:\\users\\tris\\appdata\\roaming\\python\\python312\\site-packages (from python-dateutil>=2.8.2->pandas) (1.16.0)\n",
      "Note: you may need to restart the kernel to use updated packages.\n"
     ]
    }
   ],
   "source": [
    "pip install beautifulsoup4 pandas lxml"
   ]
  },
  {
   "cell_type": "code",
   "execution_count": 1,
   "metadata": {},
   "outputs": [
    {
     "ename": "AttributeError",
     "evalue": "'NoneType' object has no attribute 'children'",
     "output_type": "error",
     "traceback": [
      "\u001b[1;31m---------------------------------------------------------------------------\u001b[0m",
      "\u001b[1;31mAttributeError\u001b[0m                            Traceback (most recent call last)",
      "Cell \u001b[1;32mIn[1], line 23\u001b[0m\n\u001b[0;32m     21\u001b[0m \u001b[38;5;66;03m# Thêm thông tin từ head\u001b[39;00m\n\u001b[0;32m     22\u001b[0m head \u001b[38;5;241m=\u001b[39m soup\u001b[38;5;241m.\u001b[39mfind(\u001b[38;5;124m'\u001b[39m\u001b[38;5;124mhead\u001b[39m\u001b[38;5;124m'\u001b[39m)\n\u001b[1;32m---> 23\u001b[0m head_content \u001b[38;5;241m=\u001b[39m [child\u001b[38;5;241m.\u001b[39mname \u001b[38;5;28;01mfor\u001b[39;00m child \u001b[38;5;129;01min\u001b[39;00m \u001b[43mhead\u001b[49m\u001b[38;5;241;43m.\u001b[39;49m\u001b[43mchildren\u001b[49m \u001b[38;5;28;01mif\u001b[39;00m child\u001b[38;5;241m.\u001b[39mname \u001b[38;5;129;01mis\u001b[39;00m \u001b[38;5;129;01mnot\u001b[39;00m \u001b[38;5;28;01mNone\u001b[39;00m]\n\u001b[0;32m     24\u001b[0m data\u001b[38;5;241m.\u001b[39mappend((\u001b[38;5;124m'\u001b[39m\u001b[38;5;124mhead\u001b[39m\u001b[38;5;124m'\u001b[39m, \u001b[38;5;124m'\u001b[39m\u001b[38;5;124m, \u001b[39m\u001b[38;5;124m'\u001b[39m\u001b[38;5;241m.\u001b[39mjoin(head_content)))\n\u001b[0;32m     26\u001b[0m \u001b[38;5;66;03m# Thêm thông tin từ body\u001b[39;00m\n",
      "\u001b[1;31mAttributeError\u001b[0m: 'NoneType' object has no attribute 'children'"
     ]
    }
   ],
   "source": [
    "from bs4 import BeautifulSoup\n",
    "import pandas as pd\n",
    "\n",
    "# Đọc file index.html\n",
    "with open('index.html', 'r', encoding='utf-8') as file:\n",
    "    content = file.read()\n",
    "\n",
    "# Phân tích HTML\n",
    "soup = BeautifulSoup(content, 'lxml')\n",
    "\n",
    "# Tạo danh sách các phần tử và nội dung\n",
    "data = []\n",
    "\n",
    "# Thêm thông tin DOCTYPE\n",
    "data.append(('DOCTYPE', 'html'))\n",
    "\n",
    "# Thêm thông tin thẻ html\n",
    "html_tag = soup.find('html')\n",
    "data.append(('html', f\"lang='{html_tag.get('lang', '')}'\"))\n",
    "\n",
    "# Thêm thông tin từ head\n",
    "head = soup.find('head')\n",
    "head_content = [child.name for child in head.children if child.name is not None]\n",
    "data.append(('head', ', '.join(head_content)))\n",
    "\n",
    "# Thêm thông tin từ body\n",
    "body = soup.find('body')\n",
    "body_content = body.get_text(strip=True)[:50] + '...' if len(body.get_text(strip=True)) > 50 else body.get_text(strip=True)\n",
    "data.append(('body', body_content))\n",
    "\n",
    "# Tạo DataFrame\n",
    "df = pd.DataFrame(data, columns=['Phần tử', 'Nội dung'])\n",
    "\n",
    "# Hiển thị bảng\n",
    "print(df.to_string(index=False))\n",
    "\n",
    "# Lưu bảng vào file CSV (tùy chọn)\n",
    "df.to_csv('index_html_table.csv', index=False)"
   ]
  }
 ],
 "metadata": {
  "kernelspec": {
   "display_name": "Python 3",
   "language": "python",
   "name": "python3"
  },
  "language_info": {
   "codemirror_mode": {
    "name": "ipython",
    "version": 3
   },
   "file_extension": ".py",
   "mimetype": "text/x-python",
   "name": "python",
   "nbconvert_exporter": "python",
   "pygments_lexer": "ipython3",
   "version": "3.12.5"
  }
 },
 "nbformat": 4,
 "nbformat_minor": 2
}
